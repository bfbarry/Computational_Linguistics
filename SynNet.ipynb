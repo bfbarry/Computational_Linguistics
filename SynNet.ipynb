{
 "cells": [
  {
   "cell_type": "code",
   "execution_count": 91,
   "metadata": {
    "execution": {
     "iopub.execute_input": "2021-03-20T00:08:05.287305Z",
     "iopub.status.busy": "2021-03-20T00:08:05.286737Z",
     "iopub.status.idle": "2021-03-20T00:08:05.296606Z",
     "shell.execute_reply": "2021-03-20T00:08:05.294506Z",
     "shell.execute_reply.started": "2021-03-20T00:08:05.287186Z"
    }
   },
   "outputs": [],
   "source": [
    "from nltk.corpus import wordnet, words\n",
    "import nltk\n",
    "import re\n",
    "import json\n",
    "from nltk.sentiment import SentimentIntensityAnalyzer\n",
    "\n",
    "import matplotlib.pyplot as plt\n",
    "with open('./data/manywords_pos.txt') as f:\n",
    "    manywords_pos = f.read()\n",
    "    exec(f'manywords_pos = {manywords_pos}') #convert the string to original list"
   ]
  },
  {
   "cell_type": "markdown",
   "metadata": {},
   "source": [
    "## Syn Net\n",
    "\n",
    "- find networks for each part of speech, see if they are organized in clusters or what\n",
    "- color nodes by sentiment (make it just binary good/bad for now), and observe any gradients\n",
    "    - how easy is it (or \"how short of a walk is it\") to go from one polar sentiment to the next?\n",
    "- degree distr\n",
    "\n",
    "Synset methods: .name, .pos\n",
    "\n",
    "Preprocessing:\n",
    "- don't want VBD (past tense) or VBG (gerund or past particple) as this is redundant\n",
    "- This is removing some wrong things e.g barefooted (\"I barefooted\" makes it VBD) when it's an adj\n",
    "\n",
    "Quick guides:\n",
    "    \n",
    "    n NOUN\n",
    "\n",
    "    v VERB\n",
    "\n",
    "    a ADJECTIVE\n",
    "\n",
    "    s ADJECTIVE SATELLITE\n",
    "\n",
    "    r ADVERB"
   ]
  },
  {
   "cell_type": "code",
   "execution_count": 234,
   "metadata": {
    "execution": {
     "iopub.execute_input": "2021-03-20T05:00:58.055686Z",
     "iopub.status.busy": "2021-03-20T05:00:58.054763Z",
     "iopub.status.idle": "2021-03-20T05:01:00.443689Z",
     "shell.execute_reply": "2021-03-20T05:01:00.440046Z",
     "shell.execute_reply.started": "2021-03-20T05:00:58.055542Z"
    }
   },
   "outputs": [],
   "source": [
    "# Collecting all words\n",
    "# some functions to search words for undesirable properties\n",
    "def has_undesirable(inputStr):\n",
    "    total_bool = bool(re.search(r'\\d', inputStr)) or any(not c.isalnum() for c in inputStr) or any(c.isupper() for c in inputStr) or len(inputStr) ==1\n",
    "    return total_bool\n",
    "\n",
    "manywords = words.words() + list(wordnet.words())\n",
    "manywords = list(dict.fromkeys(manywords)) #remove duplicates\n",
    "#df = pd.read_csv('./data/all_words.txt', sep=' ', header=None) #just words\n",
    "manywords = [i for i in manywords if has_undesirable(i) == False]"
   ]
  },
  {
   "cell_type": "code",
   "execution_count": 235,
   "metadata": {
    "execution": {
     "iopub.execute_input": "2021-03-20T05:01:08.903405Z",
     "iopub.status.busy": "2021-03-20T05:01:08.902887Z",
     "iopub.status.idle": "2021-03-20T05:04:31.146366Z",
     "shell.execute_reply": "2021-03-20T05:04:31.142929Z",
     "shell.execute_reply.started": "2021-03-20T05:01:08.903310Z"
    }
   },
   "outputs": [],
   "source": [
    "# assigning words their (potentially) multiple parts of speech\n",
    "pos_map = {'NN':'n', 'VB':'v', 'JJ':'a'} #for mapping words w/o syns\n",
    "manywords_pos = [] #[(word1, pos), ...]\n",
    "for w in manywords:\n",
    "    if nltk.pos_tag(['I',w])[1][1] == 'VBD' or nltk.pos_tag([w])[0][1] == 'VBG': # hack to tell if this is a redundant word. First case guarantees it is in fact a VBD, \n",
    "        continue                                                                 # second case uses only the word for cases like 'passing' (which can be NN)\n",
    "        \n",
    "    syns = wordnet.synsets(w)\n",
    "    if len(syns) > 0:\n",
    "        word_pos = [] # [(word,pos1),...,(word,posN)]\n",
    "        psos = list(dict.fromkeys([s.pos() for s in syns])) # duplicates removed parts of speech\n",
    "        for pos in psos:\n",
    "            word_pos.append((w,pos))\n",
    "        for wp in word_pos:\n",
    "            manywords_pos.append(wp)\n",
    "    else:\n",
    "        pos = nltk.pos_tag([w])[0][1]\n",
    "        try:\n",
    "            pos = pos_map[pos]\n",
    "            manywords_pos.append((w,pos))\n",
    "        except:\n",
    "            continue\n",
    "            \n",
    "with open('./data/manywords_pos.txt', 'w') as f:\n",
    "    f.write(str(manywords_pos))"
   ]
  },
  {
   "cell_type": "code",
   "execution_count": 236,
   "metadata": {
    "execution": {
     "iopub.execute_input": "2021-03-20T05:13:54.380062Z",
     "iopub.status.busy": "2021-03-20T05:13:54.379188Z",
     "iopub.status.idle": "2021-03-20T05:16:35.330398Z",
     "shell.execute_reply": "2021-03-20T05:16:35.327204Z",
     "shell.execute_reply.started": "2021-03-20T05:13:54.379723Z"
    }
   },
   "outputs": [],
   "source": [
    "pos_subsets = dict.fromkeys(('n','v','a','s','r'))\n",
    "for pos in pos_subsets.keys():\n",
    "    pos_subset = [(w,p) for (w,p) in manywords_pos if p == pos]\n",
    "    pos_subsets[pos] = pos_subset\n",
    "    \n",
    "polarity_done = False #if it was done previously\n",
    "SIA = SentimentIntensityAnalyzer()\n",
    "graphs = dict.fromkeys(pos_subsets.keys())\n",
    "non_sentim = []\n",
    "for g in graphs.keys():\n",
    "    graphs[g] = {'nodes' : [],'edges' : []}\n",
    "\n",
    "for pos in graphs.keys():\n",
    "    edges_cache = []\n",
    "    for (w,p) in pos_subsets[pos]:\n",
    "        wp = f'{w}.{p}' \n",
    "        syns = [syn for syn in wordnet.synsets(w) \n",
    "                        if syn.pos() == p #right POS\n",
    "                        and syn.name()[:syn.name().index('.')] != wp[:-2] #is not the same word\n",
    "                        and '_' not in syn.name()] #no non-single words\n",
    "        #nodes\n",
    "        if not polarity_done:\n",
    "            scores = SIA.polarity_scores(w); del scores['compound']\n",
    "            try:\n",
    "                sentm = [key for key in scores.keys() if scores[key] == 1.0][0]\n",
    "                graphs[pos]['nodes'].append({**{\"word\":wp}, **{'sentm':sentm}})\n",
    "                #edges\n",
    "                for syn in syns:\n",
    "                    syn = syn.name()[:-3] #removing number at end; maybe revise later to ensure no significant loss\n",
    "                    if {wp,syn} not in edges_cache and tuple(syn.split('.')) in pos_subsets[pos]: # since underiected graph\n",
    "                        edges_cache.append({wp,syn})\n",
    "                        graphs[pos]['edges'].append({\"source\":wp,\"target\":syn})\n",
    "            except:\n",
    "                non_sentim.append(wp)\n",
    "                continue\n",
    "            \n",
    "        else:\n",
    "            pass #todo\n",
    "    with open(f'./data/syn_graph/syn_graph_{pos}.json','w') as f:\n",
    "        json.dump(graphs[pos],f,indent=4)"
   ]
  },
  {
   "cell_type": "code",
   "execution_count": 238,
   "metadata": {
    "execution": {
     "iopub.execute_input": "2021-03-20T05:26:42.095683Z",
     "iopub.status.busy": "2021-03-20T05:26:42.094660Z",
     "iopub.status.idle": "2021-03-20T05:26:42.105879Z",
     "shell.execute_reply": "2021-03-20T05:26:42.103267Z",
     "shell.execute_reply.started": "2021-03-20T05:26:42.095175Z"
    }
   },
   "outputs": [
    {
     "data": {
      "text/plain": [
       "10491"
      ]
     },
     "execution_count": 238,
     "metadata": {},
     "output_type": "execute_result"
    }
   ],
   "source": [
    "len(graphs['v']['nodes'])"
   ]
  },
  {
   "cell_type": "code",
   "execution_count": 231,
   "metadata": {
    "execution": {
     "iopub.execute_input": "2021-03-20T04:51:34.307233Z",
     "iopub.status.busy": "2021-03-20T04:51:34.306345Z",
     "iopub.status.idle": "2021-03-20T04:51:34.323396Z",
     "shell.execute_reply": "2021-03-20T04:51:34.320516Z",
     "shell.execute_reply.started": "2021-03-20T04:51:34.306957Z"
    }
   },
   "outputs": [
    {
     "data": {
      "text/plain": [
       "['a.n',\n",
       " 'b.n',\n",
       " 'c.n',\n",
       " 'd.n',\n",
       " 'e.n',\n",
       " 'f.n',\n",
       " 'g.n',\n",
       " 'h.n',\n",
       " 'i.n',\n",
       " 'j.n',\n",
       " 'k.n',\n",
       " 'l.n',\n",
       " 'm.n',\n",
       " 'n.n',\n",
       " 'o.n',\n",
       " 'p.n',\n",
       " 'q.n',\n",
       " 'r.n',\n",
       " 's.n',\n",
       " 't.n',\n",
       " 'u.n',\n",
       " 'v.n',\n",
       " 'w.n',\n",
       " 'x.n',\n",
       " 'y.n',\n",
       " 'z.n',\n",
       " 'c.s',\n",
       " 'd.s',\n",
       " 'i.s',\n",
       " 'k.s',\n",
       " 'l.s',\n",
       " 'm.s',\n",
       " 'u.s',\n",
       " 'v.s',\n",
       " 'x.s']"
      ]
     },
     "execution_count": 231,
     "metadata": {},
     "output_type": "execute_result"
    }
   ],
   "source": [
    "non_sentim"
   ]
  },
  {
   "cell_type": "code",
   "execution_count": 221,
   "metadata": {
    "execution": {
     "iopub.execute_input": "2021-03-20T04:04:19.641711Z",
     "iopub.status.busy": "2021-03-20T04:04:19.640928Z",
     "iopub.status.idle": "2021-03-20T04:04:20.010188Z",
     "shell.execute_reply": "2021-03-20T04:04:20.007582Z",
     "shell.execute_reply.started": "2021-03-20T04:04:19.641398Z"
    }
   },
   "outputs": [],
   "source": [
    "with open(f'./data/syn_graph/syn_graph_v.json','w') as f:\n",
    "    json.dump(graphs['v'],f,indent=4)"
   ]
  },
  {
   "cell_type": "code",
   "execution_count": 174,
   "metadata": {
    "execution": {
     "iopub.execute_input": "2021-03-20T02:04:00.591681Z",
     "iopub.status.busy": "2021-03-20T02:04:00.590974Z",
     "iopub.status.idle": "2021-03-20T02:04:00.606721Z",
     "shell.execute_reply": "2021-03-20T02:04:00.599648Z",
     "shell.execute_reply.started": "2021-03-20T02:04:00.591417Z"
    }
   },
   "outputs": [
    {
     "data": {
      "text/plain": [
       "('abdominalian', 'a')"
      ]
     },
     "execution_count": 174,
     "metadata": {},
     "output_type": "execute_result"
    }
   ],
   "source": [
    "manywords_pos[100]"
   ]
  },
  {
   "cell_type": "code",
   "execution_count": 168,
   "metadata": {
    "execution": {
     "iopub.execute_input": "2021-03-20T02:01:12.644956Z",
     "iopub.status.busy": "2021-03-20T02:01:12.643360Z",
     "iopub.status.idle": "2021-03-20T02:01:12.665886Z",
     "shell.execute_reply": "2021-03-20T02:01:12.663899Z",
     "shell.execute_reply.started": "2021-03-20T02:01:12.644844Z"
    }
   },
   "outputs": [
    {
     "data": {
      "text/plain": [
       "True"
      ]
     },
     "execution_count": 168,
     "metadata": {},
     "output_type": "execute_result"
    }
   ],
   "source": [
    "{3,4} in ({4,3},)"
   ]
  },
  {
   "cell_type": "code",
   "execution_count": 116,
   "metadata": {
    "execution": {
     "iopub.execute_input": "2021-03-20T00:54:10.301145Z",
     "iopub.status.busy": "2021-03-20T00:54:10.297932Z",
     "iopub.status.idle": "2021-03-20T00:54:10.362532Z",
     "shell.execute_reply": "2021-03-20T00:54:10.356854Z",
     "shell.execute_reply.started": "2021-03-20T00:54:10.300848Z"
    }
   },
   "outputs": [],
   "source": [
    "from nltk.sentiment import SentimentIntensityAnalyzer"
   ]
  },
  {
   "cell_type": "code",
   "execution_count": null,
   "metadata": {
    "execution": {
     "iopub.execute_input": "2021-03-20T01:40:57.899783Z",
     "iopub.status.busy": "2021-03-20T01:40:57.898883Z",
     "iopub.status.idle": "2021-03-20T01:41:14.992640Z",
     "shell.execute_reply": "2021-03-20T01:41:14.990590Z",
     "shell.execute_reply.started": "2021-03-20T01:40:57.899402Z"
    }
   },
   "outputs": [],
   "source": [
    "sia = SentimentIntensityAnalyzer()\n",
    "from mpl_toolkits.mplot3d import Axes3D\n",
    "sent_xyz = [[],[],[],[]] #x,y,z,4th dim\n",
    "for w in manywords:\n",
    "    score = sia.polarity_scores(w)\n",
    "    sent_xyz[0].append(score['neg'])\n",
    "    sent_xyz[1].append(score['neu'])\n",
    "    sent_xyz[2].append(score['pos'])\n",
    "    sent_xyz[3].append(score['compound'])\n",
    "    \n",
    "# fig = plt.figure()\n",
    "# ax = fig.add_subplot(111, projection='3d')\n",
    "# #colors = list(iter(plt.cm.Set1(np.linspace(0, 1, 9))))\n",
    "# ax.scatter(sent_xyz[0],sent_xyz[1],sent_xyz[2])\n",
    "\n",
    "# plt.show()\n"
   ]
  },
  {
   "cell_type": "code",
   "execution_count": 151,
   "metadata": {
    "execution": {
     "iopub.execute_input": "2021-03-20T01:39:50.967819Z",
     "iopub.status.busy": "2021-03-20T01:39:50.967054Z",
     "iopub.status.idle": "2021-03-20T01:39:51.763750Z",
     "shell.execute_reply": "2021-03-20T01:39:51.761932Z",
     "shell.execute_reply.started": "2021-03-20T01:39:50.967513Z"
    }
   },
   "outputs": [
    {
     "data": {
      "text/plain": [
       "(array([1.46000e+02, 7.67000e+02, 8.03000e+02, 5.34000e+02, 2.53000e+02,\n",
       "        2.32036e+05, 2.22000e+02, 5.91000e+02, 7.11000e+02, 2.62000e+02]),\n",
       " array([-0.7096 , -0.57267, -0.43574, -0.29881, -0.16188, -0.02495,\n",
       "         0.11198,  0.24891,  0.38584,  0.52277,  0.6597 ]),\n",
       " <a list of 10 Patch objects>)"
      ]
     },
     "execution_count": 151,
     "metadata": {},
     "output_type": "execute_result"
    },
    {
     "data": {
      "image/png": "[encoded data removed]",
      "text/plain": [
       "<Figure size 432x288 with 1 Axes>"
      ]
     },
     "metadata": {
      "needs_background": "light"
     },
     "output_type": "display_data"
    }
   ],
   "source": [
    "plt.hist(sent_xyz[3],bins=10)"
   ]
  },
  {
   "cell_type": "code",
   "execution_count": 146,
   "metadata": {
    "execution": {
     "iopub.execute_input": "2021-03-20T01:25:04.675594Z",
     "iopub.status.busy": "2021-03-20T01:25:04.674786Z",
     "iopub.status.idle": "2021-03-20T01:25:04.686440Z",
     "shell.execute_reply": "2021-03-20T01:25:04.684944Z",
     "shell.execute_reply.started": "2021-03-20T01:25:04.675238Z"
    }
   },
   "outputs": [
    {
     "data": {
      "text/plain": [
       "{'neg': 0.0, 'neu': 1.0, 'pos': 0.0, 'compound': 0.0}"
      ]
     },
     "execution_count": 146,
     "metadata": {},
     "output_type": "execute_result"
    }
   ],
   "source": [
    "sia.polarity_scores('The meal was atrocious')"
   ]
  },
  {
   "cell_type": "code",
   "execution_count": 172,
   "metadata": {
    "execution": {
     "iopub.execute_input": "2021-03-20T02:03:38.902122Z",
     "iopub.status.busy": "2021-03-20T02:03:38.900038Z",
     "iopub.status.idle": "2021-03-20T02:03:38.915215Z",
     "shell.execute_reply": "2021-03-20T02:03:38.913883Z",
     "shell.execute_reply.started": "2021-03-20T02:03:38.901992Z"
    }
   },
   "outputs": [
    {
     "data": {
      "text/plain": [
       "[Synset('run.v.01'),\n",
       " Synset('scat.v.01'),\n",
       " Synset('run.v.03'),\n",
       " Synset('operate.v.01'),\n",
       " Synset('run.v.05'),\n",
       " Synset('run.v.06'),\n",
       " Synset('function.v.01'),\n",
       " Synset('range.v.01'),\n",
       " Synset('campaign.v.01'),\n",
       " Synset('play.v.18'),\n",
       " Synset('run.v.11'),\n",
       " Synset('tend.v.01'),\n",
       " Synset('run.v.13'),\n",
       " Synset('run.v.14'),\n",
       " Synset('run.v.15'),\n",
       " Synset('run.v.16'),\n",
       " Synset('prevail.v.03'),\n",
       " Synset('run.v.18'),\n",
       " Synset('run.v.19'),\n",
       " Synset('carry.v.15'),\n",
       " Synset('run.v.21'),\n",
       " Synset('guide.v.05'),\n",
       " Synset('run.v.23'),\n",
       " Synset('run.v.24'),\n",
       " Synset('run.v.25'),\n",
       " Synset('run.v.26'),\n",
       " Synset('run.v.27'),\n",
       " Synset('run.v.28'),\n",
       " Synset('run.v.29'),\n",
       " Synset('run.v.30'),\n",
       " Synset('run.v.31'),\n",
       " Synset('run.v.32'),\n",
       " Synset('run.v.33'),\n",
       " Synset('run.v.34'),\n",
       " Synset('ply.v.03'),\n",
       " Synset('hunt.v.01'),\n",
       " Synset('race.v.02'),\n",
       " Synset('move.v.13'),\n",
       " Synset('melt.v.01'),\n",
       " Synset('ladder.v.01'),\n",
       " Synset('run.v.41')]"
      ]
     },
     "execution_count": 172,
     "metadata": {},
     "output_type": "execute_result"
    }
   ],
   "source": [
    "[syn for syn in wordnet.synsets('run') if syn.pos() == 'v']"
   ]
  },
  {
   "cell_type": "code",
   "execution_count": null,
   "metadata": {},
   "outputs": [],
   "source": []
  }
 ],
 "metadata": {
  "kernelspec": {
   "display_name": "Python 3",
   "language": "python",
   "name": "python3"
  },
  "language_info": {
   "codemirror_mode": {
    "name": "ipython",
    "version": 3
   },
   "file_extension": ".py",
   "mimetype": "text/x-python",
   "name": "python",
   "nbconvert_exporter": "python",
   "pygments_lexer": "ipython3",
   "version": "3.7.4"
  }
 },
 "nbformat": 4,
 "nbformat_minor": 4
}
