{
 "cells": [
  {
   "cell_type": "code",
   "execution_count": 19,
   "metadata": {},
   "outputs": [],
   "source": [
    "import numpy as np\n",
    "import pandas as pd\n",
    "import re"
   ]
  },
  {
   "cell_type": "markdown",
   "metadata": {},
   "source": [
    "### Resources\n",
    "- [WordNet](https://wordnet.princeton.edu/)\n",
    "    - [youtube tut](https://www.youtube.com/watch?v=T68P5-8tM-Y)\n",
    "- [OPTED](http://www.mso.anu.edu.au/~ralph/OPTED/)\n",
    "- [wordlist](http://wordlist.aspell.net/)"
   ]
  },
  {
   "cell_type": "markdown",
   "metadata": {},
   "source": [
    "# Loading, \"preprocessing\"\n",
    "\n",
    "Exclusion conditions:\n",
    "\n",
    "- contains numbers or symbols (what about hyphens?)\n",
    "    \n",
    "- is an acronym\n",
    "    \n",
    "- contains a capital letter not at start of word\n",
    " \n",
    "- is straight up just not a word in the english dictionary (how to check this?)\n",
    "    "
   ]
  },
  {
   "cell_type": "code",
   "execution_count": 18,
   "metadata": {},
   "outputs": [],
   "source": [
    "df = pd.read_csv('all_words.txt', sep=' ', header=None) #just words\n",
    "#df2 = pd.read_csv('oed.txt', sep=' ', header=None) #Oxford Eng Dict, broken import"
   ]
  },
  {
   "cell_type": "code",
   "execution_count": 25,
   "metadata": {},
   "outputs": [],
   "source": [
    "# some functions to search words for undesirable properties\n",
    "\n",
    "def hasNumbers(inputStr):\n",
    "    return bool(re.search(r'\\d', inputStr))"
   ]
  },
  {
   "cell_type": "code",
   "execution_count": 28,
   "metadata": {},
   "outputs": [
    {
     "data": {
      "text/plain": [
       "True"
      ]
     },
     "execution_count": 28,
     "metadata": {},
     "output_type": "execute_result"
    }
   ],
   "source": [
    "a = ['dog','cat','10th', '10-point']\n"
   ]
  },
  {
   "cell_type": "markdown",
   "metadata": {},
   "source": [
    "# Algorithm, Analysis\n",
    "\n",
    "Rules:\n",
    "- Replace letters alphabetically and in quantity until possibilities exhausted, then add the next letter. \n",
    "\n",
    "Analysis:\n",
    "- Under what conditions does non skipping occur? (steps of size 1)\n",
    "- Note statistical properties of letters\n",
    "     - Like what other letters typically trail, \n",
    "- See where switches occur eg \"dating\" vs \"duties\"\n",
    "- Observe nonlinear properties\n",
    "- What do the outskirts of the graph look like\n",
    "\n",
    "Further questions:\n",
    "- What do the graphs and properties look like for contextually restricted texts, like essays and books?\n",
    "    - more homogeneity in words and their semantic properties\n",
    "- Semantic clustering\n",
    "- How to incoporate tenses?  (Should word list passed just include the word or all its tenses too?  What happens when you switch from one to the other?)\n",
    "\n"
   ]
  },
  {
   "cell_type": "code",
   "execution_count": null,
   "metadata": {},
   "outputs": [],
   "source": [
    "for i in dictionary:\n",
    "    "
   ]
  }
 ],
 "metadata": {
  "kernelspec": {
   "display_name": "Python 3",
   "language": "python",
   "name": "python3"
  },
  "language_info": {
   "codemirror_mode": {
    "name": "ipython",
    "version": 3
   },
   "file_extension": ".py",
   "mimetype": "text/x-python",
   "name": "python",
   "nbconvert_exporter": "python",
   "pygments_lexer": "ipython3",
   "version": "3.7.4"
  }
 },
 "nbformat": 4,
 "nbformat_minor": 2
}
