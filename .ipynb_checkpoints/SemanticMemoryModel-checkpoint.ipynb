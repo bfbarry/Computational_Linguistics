{
 "cells": [
  {
   "cell_type": "code",
   "execution_count": 1,
   "metadata": {
    "ExecuteTime": {
     "end_time": "2020-06-09T02:34:34.051576Z",
     "start_time": "2020-06-09T02:34:23.124037Z"
    }
   },
   "outputs": [],
   "source": [
    "import numpy as np\n",
    "import pandas as pd\n",
    "import re\n",
    "import nltk\n",
    "from nltk.corpus import words, wordnet\n",
    "import re\n",
    "import pprint\n",
    "\n",
    "import networkx as nx\n",
    "import statistics\n",
    "\n",
    "%matplotlib inline\n",
    "import matplotlib.pyplot as plt\n",
    "\n",
    "import json\n",
    "import pickle\n",
    "import functools\n",
    "import operator\n",
    "from collections import Counter"
   ]
  },
  {
   "cell_type": "markdown",
   "metadata": {},
   "source": [
    "Given a a body of text, I want to iteratively reduce its entropy/\"resolution\" in iterative steps, a kind of model for memory (e.g. of a book).  Will probably involve looking at the grammar structure, like NP, and VP and reduce details iteratively.  So essentially working way down a [consituency-based] parse tree. But need do incorporate valence structure as well (good/bad).\n",
    "\n",
    "To generate sentences, would be a system operating at criticality.\n",
    "\n",
    "Example: \n",
    "\n",
    "(1) John hit the ball --> (2) John hit it --> (3) He hit\n",
    "\n",
    "Information loss at each step.  Interestingly, the last step is what an outside observer without knowledge/context would describe (someone who doesn't know what a ball is).  So at some point, the sentence becomes separated from its interpretation, or [model](https://plato.stanford.edu/entries/model-theory/).  \n",
    "\n",
    "Need to identify terminal vs non terminal nodes\n",
    "\n",
    "\n",
    "Relevant resources probably:\n",
    "- [Categorizing, tagging words](https://www.nltk.org/book/ch05.html)\n",
    "- [Extracting info from text (NP, VP etc)](https://www.nltk.org/book/ch07.html)\n",
    "\n",
    "\n",
    "![alt text](./img/POS-Tags.png)"
   ]
  },
  {
   "cell_type": "code",
   "execution_count": 2,
   "metadata": {
    "ExecuteTime": {
     "end_time": "2020-06-09T02:34:48.477485Z",
     "start_time": "2020-06-09T02:34:48.463476Z"
    }
   },
   "outputs": [],
   "source": [
    "class Phrase:\n",
    "    def __init__(self, text, mode='par'):\n",
    "        if mode == 'par':\n",
    "            sentences = nltk.sent_tokenize(text) \n",
    "            sentences = [nltk.word_tokenize(sent) for sent in sentences] \n",
    "            self.tags = [nltk.pos_tag(sent) for sent in sentences]\n",
    "        if mode == 'sent':\n",
    "            #maybe not necessary\n",
    "            sentence = nltk.word_tokenize(text)\n",
    "            self.tags = nltk.pos_tag(sentence)\n",
    "    \n",
    "        grammar = \"NP: {<DT>?<JJ>*<NN>}\" #look into other grammars\n",
    "        chunk_rules = nltk.RegexpParser(grammar)\n",
    "        self.chunks = chunk_rules.parse(self.tags)\n",
    "        \n",
    "    def findNP(self):\n",
    "        \"\"\"Finds the noun phrase\"\"\"\n",
    "        for word in self.sentence:\n",
    "            if word in ['The','the']:\n",
    "                pass\n",
    "            \n",
    "    def tempReturn(self):\n",
    "        return self.chunks "
   ]
  },
  {
   "cell_type": "code",
   "execution_count": 3,
   "metadata": {
    "ExecuteTime": {
     "end_time": "2020-06-09T02:34:52.411988Z",
     "start_time": "2020-06-09T02:34:50.063926Z"
    }
   },
   "outputs": [
    {
     "data": {
      "image/png": "[encoded data removed]",
      "text/plain": [
       "Tree('S', [('Once', 'RB'), ('upon', 'IN'), Tree('NP', [('a', 'DT'), ('time', 'NN')]), ('in', 'IN'), ('England', 'NNP'), ('.', '.'), ('There', 'EX'), ('was', 'VBD'), Tree('NP', [('a', 'DT'), ('knight', 'NN')])])"
      ]
     },
     "execution_count": 3,
     "metadata": {},
     "output_type": "execute_result"
    }
   ],
   "source": [
    "x = Phrase(\"Once upon a time in England.  There was a knight\", mode='sent')\n",
    "x.tempReturn()"
   ]
  },
  {
   "cell_type": "code",
   "execution_count": 4,
   "metadata": {
    "ExecuteTime": {
     "end_time": "2020-06-09T02:36:14.505259Z",
     "start_time": "2020-06-09T02:36:14.496963Z"
    }
   },
   "outputs": [],
   "source": [
    "z = x.tempReturn()"
   ]
  },
  {
   "cell_type": "code",
   "execution_count": 9,
   "metadata": {
    "ExecuteTime": {
     "end_time": "2020-06-09T02:39:39.115825Z",
     "start_time": "2020-06-09T02:39:39.106441Z"
    }
   },
   "outputs": [
    {
     "data": {
      "text/plain": [
       "'(S\\n  Once/RB\\n  upon/IN\\n  (NP a/DT time/NN)\\n  in/IN\\n  England/NNP\\n  ./.\\n  There/EX\\n  was/VBD\\n  (NP a/DT knight/NN))'"
      ]
     },
     "execution_count": 9,
     "metadata": {},
     "output_type": "execute_result"
    }
   ],
   "source": [
    "str(z)"
   ]
  },
  {
   "cell_type": "code",
   "execution_count": null,
   "metadata": {},
   "outputs": [],
   "source": []
  }
 ],
 "metadata": {
  "kernelspec": {
   "display_name": "Python 3",
   "language": "python",
   "name": "python3"
  },
  "language_info": {
   "codemirror_mode": {
    "name": "ipython",
    "version": 3
   },
   "file_extension": ".py",
   "mimetype": "text/x-python",
   "name": "python",
   "nbconvert_exporter": "python",
   "pygments_lexer": "ipython3",
   "version": "3.7.4"
  }
 },
 "nbformat": 4,
 "nbformat_minor": 2
}
