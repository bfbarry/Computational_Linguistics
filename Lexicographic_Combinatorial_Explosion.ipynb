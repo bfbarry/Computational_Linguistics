{
 "cells": [
  {
   "cell_type": "code",
   "execution_count": 3,
   "metadata": {
    "ExecuteTime": {
     "end_time": "2020-05-17T18:49:35.669058Z",
     "start_time": "2020-05-17T18:49:26.949831Z"
    }
   },
   "outputs": [],
   "source": [
    "import numpy as np\n",
    "import pandas as pd\n",
    "import re\n",
    "import nltk\n",
    "from nltk.corpus import words, wordnet\n",
    "import networkx as nx\n",
    "\n",
    "%matplotlib inline\n",
    "import matplotlib.pyplot as plt"
   ]
  },
  {
   "cell_type": "markdown",
   "metadata": {},
   "source": [
    "### Resources\n",
    "- [WordNet](https://wordnet.princeton.edu/)\n",
    "    - [youtube tut](https://www.youtube.com/watch?v=T68P5-8tM-Y)\n",
    "- [OPTED](http://www.mso.anu.edu.au/~ralph/OPTED/)\n",
    "- [wordlist](http://wordlist.aspell.net/)\n",
    "\n",
    "Inspiration:\n",
    "- https://en.wikipedia.org/wiki/Combinatorics_on_words\n",
    "    check out Thue's work"
   ]
  },
  {
   "cell_type": "markdown",
   "metadata": {},
   "source": [
    "# Loading, preprocessing\n",
    "\n",
    "Exclusion conditions:\n",
    "\n",
    "- contains numbers or symbols (what about hyphens?)\n",
    "    - Yes, some real words contain hyphens but for now let's focus on \"pure\" words without special symbols\n",
    "    \n",
    "- is an acronym\n",
    "    \n",
    "- contains a capital letter not at start of word\n",
    " \n",
    "- is straight up just not a word in the english dictionary (how to check this?)\n",
    "    - I want to remove names and cities (why tf are they in dictionaries in the first place??)\n",
    "        - Can't I just filter by if it starts with a capital word?\n",
    "    - Need to find a corpus with definitions and parts of speech\n",
    "    "
   ]
  },
  {
   "cell_type": "markdown",
   "metadata": {},
   "source": [
    "NLTK corpora"
   ]
  },
  {
   "cell_type": "code",
   "execution_count": 242,
   "metadata": {
    "ExecuteTime": {
     "end_time": "2020-05-18T18:29:25.347565Z",
     "start_time": "2020-05-18T18:29:25.098193Z"
    }
   },
   "outputs": [
    {
     "data": {
      "text/plain": [
       "331327"
      ]
     },
     "execution_count": 242,
     "metadata": {},
     "output_type": "execute_result"
    }
   ],
   "source": [
    "#contains most words... missing some past tense, like \"argued\", wtf?\n",
    "manywords = words.words() + list(wordnet.words())\n",
    "manywords = list(dict.fromkeys(manywords)) #remove duplicates\n",
    "len(manywords)"
   ]
  },
  {
   "cell_type": "markdown",
   "metadata": {},
   "source": [
    "Other corpora"
   ]
  },
  {
   "cell_type": "code",
   "execution_count": 33,
   "metadata": {
    "ExecuteTime": {
     "end_time": "2020-05-17T19:35:35.083278Z",
     "start_time": "2020-05-17T19:35:34.668422Z"
    }
   },
   "outputs": [],
   "source": [
    "#I totally forgot and didn't document where 'all_words.txt' came from\n",
    "df = pd.read_csv('all_words.txt', sep=' ', header=None) #just words\n",
    "#df2 = pd.read_csv('oed.txt', sep=' ', header=None) #Oxford Eng Dict, broken import"
   ]
  },
  {
   "cell_type": "markdown",
   "metadata": {},
   "source": [
    "So we don't want numbers, but some real words have them (e.g. catch-22) so what to do? "
   ]
  },
  {
   "cell_type": "code",
   "execution_count": 239,
   "metadata": {
    "ExecuteTime": {
     "end_time": "2020-05-18T18:29:10.931274Z",
     "start_time": "2020-05-18T18:29:10.925251Z"
    }
   },
   "outputs": [],
   "source": [
    "# some functions to search words for undesirable properties\n",
    "\n",
    "def has_undesirable(inputStr):\n",
    "    total_bool = bool(re.search(r'\\d', inputStr)) or any(not c.isalnum() for c in inputStr) or any(c.isupper() for c in inputStr)\n",
    "    return total_bool\n",
    "        "
   ]
  },
  {
   "cell_type": "code",
   "execution_count": 243,
   "metadata": {
    "ExecuteTime": {
     "end_time": "2020-05-18T18:29:31.770091Z",
     "start_time": "2020-05-18T18:29:29.976765Z"
    }
   },
   "outputs": [
    {
     "data": {
      "text/plain": [
       "236325"
      ]
     },
     "execution_count": 243,
     "metadata": {},
     "output_type": "execute_result"
    }
   ],
   "source": [
    "manywords = [i for i in manywords if has_undesirable(i) == False]\n",
    "len(manywords)"
   ]
  },
  {
   "cell_type": "markdown",
   "metadata": {},
   "source": [
    "# Algorithm, Analysis\n",
    "\n",
    "So my initial idea was to calculate hamming distance of words with one another, and coming back to this I am interested in creating the partitions for symbolic dynamics state space.  But those aren't mutually exclusive and can both help construct state graph.\n",
    "\n",
    "Creating dynamics graph:\n",
    "- for each word in corpus, split it into constituent letters\n",
    "- then define it as edges on a graph: e.g. for word graph: g->r->a->p->h becomes {(g,r),(r,a),(a,p),(p,h)}\n",
    "- Construct the entire graph of the english language this way.\n",
    "    - Starting condition is all 26 letters as disjoint nodes\n",
    "    - Append an edge to a letter connecting to a new node \n",
    "    - Is revisiting a letter a cycle or a new node? (e.g. aardvark\n",
    "    - Might have to tweak the rules a bit to avoid redundancies\n",
    "\n",
    "Hamming Rules (?):\n",
    "- Replace letters alphabetically and in quantity until possibilities exhausted, then add the next letter. \n",
    "\n",
    "Analysis:\n",
    "- Under what conditions does non skipping occur? (steps of size 1)\n",
    "- Note statistical properties of letters\n",
    "     - Like what other letters typically trail, \n",
    "- See where switches occur eg \"dating\" vs \"duties\"\n",
    "- HAMMING DISTANCE\n",
    "- Observe nonlinear properties\n",
    "- What do the outskirts of the graph look like\n",
    "\n",
    "Further questions:\n",
    "- What do the graphs and properties look like for contextually restricted texts, like essays and books?\n",
    "    - more homogeneity in words and their semantic properties\n",
    "- Semantic clustering\n",
    "- How to incoporate tenses?  (Should word list passed just include the word or all its tenses too?  What happens when you switch from one to the other?)\n",
    "    - compare graphs with and without tenses\n",
    "\n"
   ]
  },
  {
   "cell_type": "code",
   "execution_count": null,
   "metadata": {},
   "outputs": [],
   "source": [
    "#from wikipedia\n",
    "def hamming_distance(s1, s2) -> int:\n",
    "    \"\"\"Return the Hamming distance between equal-length sequences.\"\"\"\n",
    "    if len(s1) != len(s2):\n",
    "        raise ValueError(\"Undefined for sequences of unequal length.\")\n",
    "    return sum(el1 != el2 for el1, el2 in zip(s1, s2))"
   ]
  },
  {
   "cell_type": "code",
   "execution_count": 245,
   "metadata": {
    "ExecuteTime": {
     "end_time": "2020-05-18T18:31:30.489352Z",
     "start_time": "2020-05-18T18:31:30.223613Z"
    }
   },
   "outputs": [],
   "source": [
    "word_chars = []\n",
    "for i in manywords: \n",
    "    word_chars.append(list(i))\n",
    "\n",
    "def gen_word_graphs(corpus, mode = 'acyclic'):\n",
    "    word_edges = []\n",
    "    for word in corpus:\n",
    "        edge_list = []\n",
    "        for n_i, i in enumerate(word):\n",
    "            try:\n",
    "                if mode == 'acyclic':\n",
    "                    edge_list.append((word[n_i] + str(n_i), word[n_i+1] + str(n_i+1)))\n",
    "                else:\n",
    "                    edge_list.append((word[n_i], word[n_i+1]))\n",
    "            except IndexError:\n",
    "                break\n",
    "\n",
    "        word_edges.append(edge_list)\n",
    "        \n",
    "    return [x for x in word_edges if x != []]"
   ]
  },
  {
   "cell_type": "code",
   "execution_count": 246,
   "metadata": {
    "ExecuteTime": {
     "end_time": "2020-05-18T18:31:44.948032Z",
     "start_time": "2020-05-18T18:31:41.212939Z"
    }
   },
   "outputs": [],
   "source": [
    "word_edges = gen_word_graphs(manywords)"
   ]
  },
  {
   "cell_type": "markdown",
   "metadata": {
    "ExecuteTime": {
     "end_time": "2020-05-17T21:02:43.888974Z",
     "start_time": "2020-05-17T21:02:43.487351Z"
    }
   },
   "source": [
    "notice that single words (\"a\", or \"I\") don't appear in word_edges because they are single nodes.  Does this matter? (probably not, until I find a way to incorporate stop conditions, which is which letter to stop at)\n",
    "\n",
    "Now we initialize the starting nodes (the first letter of a word) which are disjoint, since if one pointed to the other, the latter would no longer be a starting node.\n",
    "\n",
    "### Analysis\n",
    "Could be interesting to compare degrees of these, and then for each next \"layer\" of nodes (high dimensional so layers are not well defined)\n",
    "   - Degrees for most starting points will most likely be around 20-26\n",
    "   - Will decrease as you move up\n",
    "   - Degree one when you are on the path of a unique word\n",
    "   - in-degree vs out-degree?\n",
    "   - Vowels vs consonants?  (and are patterns between the two consistent across languages?)\n",
    "   \n",
    "When do we see discontinuities for letters at certain layers?  E.g. there is no z20 but there is a z22\n",
    "   \n",
    "Also want to see distribution of letter layers and layers: (i.e. how many z10's are there vs b10?  What is the highest layer number and which letters occupy that?)\n",
    "\n",
    "Algorithm:\n",
    "1. Go through each element of word_edges.  If you encounter a new edge (e.g. ('a','a'), append to graph.  If you encounter it again, skip. \n",
    "2.  Once you've gone through index 0 of each word, now go through the next and repeat.\n",
    "\n",
    "Cyclical version: layer doesn't matter.  The state space would be partitioned into 26.  There can be loops.  \n",
    "   - Information loss (e.g. don't know if to repeat 3 times) without knowledge of dynamics\n",
    "   \n",
    "Acyclic version: layer matters, can have \"repeated\" nodes (though layer ID would differ). "
   ]
  },
  {
   "cell_type": "code",
   "execution_count": 371,
   "metadata": {
    "ExecuteTime": {
     "end_time": "2020-05-18T21:08:08.157540Z",
     "start_time": "2020-05-18T21:08:08.147220Z"
    }
   },
   "outputs": [],
   "source": [
    "#might delete later\n",
    "start_nodes = ['a','b','c','d','e','f','g','h','i','j','k','l','m',\n",
    "               'n','o','p','q','r','s','t','u','v','w','x','y','z']"
   ]
  },
  {
   "cell_type": "code",
   "execution_count": null,
   "metadata": {
    "ExecuteTime": {
     "end_time": "2020-05-18T19:37:02.597191Z",
     "start_time": "2020-05-18T19:36:53.309613Z"
    }
   },
   "outputs": [],
   "source": [
    "def gen_master_graph(edges):\n",
    "    \"\"\"\n",
    "    Creates a connected digraph based on an input of allowed edges.  \n",
    "    With this graph you can create any word by following edges.\n",
    "    \"\"\"\n",
    "    master_graph = []\n",
    "    for word in edges:\n",
    "        for edge in word:\n",
    "            if edge not in master_graph:\n",
    "                master_graph.append(edge)\n",
    "    return master_graph"
   ]
  },
  {
   "cell_type": "code",
   "execution_count": null,
   "metadata": {},
   "outputs": [],
   "source": [
    "master_graph = gen_master_graph(word_edges)\n",
    "len(master_graph)"
   ]
  },
  {
   "cell_type": "markdown",
   "metadata": {},
   "source": [
    "Updated preprocessing pruned 10k of the edges!"
   ]
  },
  {
   "cell_type": "code",
   "execution_count": 279,
   "metadata": {
    "ExecuteTime": {
     "end_time": "2020-05-18T19:44:34.467716Z",
     "start_time": "2020-05-18T19:44:34.460826Z"
    }
   },
   "outputs": [
    {
     "data": {
      "text/plain": [
       "7162"
      ]
     },
     "execution_count": 279,
     "metadata": {},
     "output_type": "execute_result"
    }
   ],
   "source": [
    "len(master_graph)"
   ]
  },
  {
   "cell_type": "code",
   "execution_count": 262,
   "metadata": {
    "ExecuteTime": {
     "end_time": "2020-05-18T18:47:46.313592Z",
     "start_time": "2020-05-18T18:47:46.301352Z"
    }
   },
   "outputs": [],
   "source": [
    "np_master = np.array(master_graph)"
   ]
  },
  {
   "cell_type": "code",
   "execution_count": 270,
   "metadata": {
    "ExecuteTime": {
     "end_time": "2020-05-18T19:31:44.000600Z",
     "start_time": "2020-05-18T19:31:43.990263Z"
    }
   },
   "outputs": [],
   "source": [
    "def edges_at_n(corpus_graph, node, pos = 'in'):\n",
    "    \"\"\"\n",
    "    returns edges that start or end with a given node \n",
    "    note: the length of the array when pos == 'in' is the same as the out degree, and vice versa \n",
    "    \"\"\"\n",
    "    if pos == 'in':\n",
    "        index = 0\n",
    "    elif pos == 'out':\n",
    "        index = 1\n",
    "    np_master = np.array(corpus_graph)\n",
    "    loc_arr = np.where(np_master[:,index] == node)\n",
    "    edges = []\n",
    "    for i in loc_arr[0]:\n",
    "        edges.append(corpus_graph[i])\n",
    "    return edges"
   ]
  },
  {
   "cell_type": "code",
   "execution_count": 271,
   "metadata": {
    "ExecuteTime": {
     "end_time": "2020-05-18T19:31:52.045065Z",
     "start_time": "2020-05-18T19:31:52.028533Z"
    }
   },
   "outputs": [
    {
     "data": {
      "text/plain": [
       "[('o2', 'b3'),\n",
       " ('s2', 'b3'),\n",
       " ('e2', 'b3'),\n",
       " ('a2', 'b3'),\n",
       " ('r2', 'b3'),\n",
       " ('i2', 'b3'),\n",
       " ('l2', 'b3'),\n",
       " ('u2', 'b3'),\n",
       " ('y2', 'b3'),\n",
       " ('m2', 'b3'),\n",
       " ('n2', 'b3'),\n",
       " ('h2', 'b3'),\n",
       " ('b2', 'b3'),\n",
       " ('c2', 'b3'),\n",
       " ('w2', 'b3'),\n",
       " ('d2', 'b3'),\n",
       " ('g2', 'b3'),\n",
       " ('t2', 'b3'),\n",
       " ('x2', 'b3'),\n",
       " ('p2', 'b3'),\n",
       " ('k2', 'b3'),\n",
       " ('f2', 'b3'),\n",
       " ('j2', 'b3'),\n",
       " ('z2', 'b3')]"
      ]
     },
     "execution_count": 271,
     "metadata": {},
     "output_type": "execute_result"
    }
   ],
   "source": [
    "x = edges_at_n(master_graph, 'b3', pos = 'out')\n",
    "x"
   ]
  },
  {
   "cell_type": "markdown",
   "metadata": {},
   "source": [
    "Based on this observation, want to expunge words with numbers... Cause who tf puts \"a_1\" in a corpus of words"
   ]
  },
  {
   "cell_type": "code",
   "execution_count": 266,
   "metadata": {
    "ExecuteTime": {
     "end_time": "2020-05-18T19:30:30.701943Z",
     "start_time": "2020-05-18T19:30:30.659459Z"
    }
   },
   "outputs": [],
   "source": [
    "G = nx.DiGraph(master_graph)"
   ]
  },
  {
   "cell_type": "code",
   "execution_count": 269,
   "metadata": {
    "ExecuteTime": {
     "end_time": "2020-05-18T19:30:50.310174Z",
     "start_time": "2020-05-18T19:30:50.299476Z"
    }
   },
   "outputs": [
    {
     "data": {
      "text/plain": [
       "23"
      ]
     },
     "execution_count": 269,
     "metadata": {},
     "output_type": "execute_result"
    }
   ],
   "source": [
    "G.out_degree['b3']"
   ]
  },
  {
   "cell_type": "code",
   "execution_count": 278,
   "metadata": {
    "ExecuteTime": {
     "end_time": "2020-05-18T19:41:28.095671Z",
     "start_time": "2020-05-18T19:41:28.086027Z"
    }
   },
   "outputs": [
    {
     "data": {
      "text/plain": [
       "560"
      ]
     },
     "execution_count": 278,
     "metadata": {},
     "output_type": "execute_result"
    }
   ],
   "source": [
    "len(list(G.nodes))"
   ]
  },
  {
   "cell_type": "markdown",
   "metadata": {},
   "source": [
    "as of 5/18/20, current size of the corpus is 236,325 (google says the Oxford English Dictionary contains full entries for 171,476 words in current use; 47,156 of which are obsolete words).  The current master graph for the corpus contains 560 nodes, and 7,162 edges.  Which is pretty cool.  So I wonder how close this is to the real statistics, given a \"pure\" corpus of the english language, excluding tenses.  \n",
    "\n",
    "From earlier: A little sus that there is even a word whose 21st letter is z.  So want to make a function that shows list of words where a given index is a certain letter.  \n",
    "\n",
    "Why does degree change when changing to a digraph?  e.g for z20 it went from 27 to 13??"
   ]
  },
  {
   "cell_type": "code",
   "execution_count": 187,
   "metadata": {
    "ExecuteTime": {
     "end_time": "2020-05-18T04:05:57.471037Z",
     "start_time": "2020-05-18T04:05:57.462302Z"
    }
   },
   "outputs": [],
   "source": [
    "def words_at_n(corpus, letter, pos):\n",
    "    \"\"\"\n",
    "    returns list of words where a given index is a certain letter\n",
    "    \"\"\"\n",
    "    targets = []\n",
    "    for word in corpus:\n",
    "        try:\n",
    "            if word[pos] == letter:\n",
    "                targets.append(word)\n",
    "        except IndexError:\n",
    "            continue\n",
    "    return targets"
   ]
  },
  {
   "cell_type": "markdown",
   "metadata": {},
   "source": [
    "Would be interesting to see statistics of this function for varying the letters and positions\n",
    "\n",
    "Also some of these words may not exist? E.g. those with z @ index 18: 'counterrevolutionize', 'disdenominationalize'"
   ]
  },
  {
   "cell_type": "code",
   "execution_count": 321,
   "metadata": {
    "ExecuteTime": {
     "end_time": "2020-05-18T20:47:30.082557Z",
     "start_time": "2020-05-18T20:47:29.926345Z"
    }
   },
   "outputs": [
    {
     "data": {
      "text/plain": [
       "['chlorobenzylidenemalononitrile']"
      ]
     },
     "execution_count": 321,
     "metadata": {},
     "output_type": "execute_result"
    }
   ],
   "source": [
    "words_at_n(manywords, 'e', 29)"
   ]
  },
  {
   "cell_type": "markdown",
   "metadata": {},
   "source": [
    "### Functions to make\n",
    "\n",
    "- One that checks whether given [consecutive] edges form an existing word, and then using it to identify which nodes can be stopping points.\n",
    "    - or backwards, given a word create those edges\n",
    "- Graph stats regarding its nodes\n",
    "    - longest word, and where it stands relative to other words\n",
    "    - Distribution of degree in the overall graph\n",
    "        - Also, given a word, show degree, in degree, and out degree of each of those nodes \n",
    "    - Compare letters vs layers \n",
    "        - see where discontinuities in layers occur (no z20 for example)\n",
    "    \n",
    "- How can this graph be partitioned?"
   ]
  },
  {
   "cell_type": "code",
   "execution_count": 344,
   "metadata": {
    "ExecuteTime": {
     "end_time": "2020-05-18T20:57:07.186259Z",
     "start_time": "2020-05-18T20:57:07.172757Z"
    }
   },
   "outputs": [],
   "source": [
    "class LanguageGraphStats:\n",
    "    def __init__(self, master_graph, mode = 'digraph'):\n",
    "        \"\"\"\n",
    "        \n",
    "        \"\"\"\n",
    "        if mode == 'digraph':\n",
    "            self.nx_graph = nx.DiGraph(master_graph)\n",
    "        else:\n",
    "            self.nx_graph = nx.Graph(master_graph)\n",
    "            \n",
    "        self.nodes = list(self.nx_graph.nodes)\n",
    "        self.edges = master_graph\n",
    "        self.layers = [int(i[1:]) for i in self.nodes]\n",
    "        \n",
    "    def getSize(self, part = None):\n",
    "        if part == 'nodes':\n",
    "            return len(self.nodes)\n",
    "        elif part == 'edges':\n",
    "            return len(self.edges)\n",
    "        elif part == 'layers':\n",
    "            return max(self.layers)\n",
    "    \n",
    "    def eltsAtPartition(self, fix = None):\n",
    "        \"\"\"\n",
    "        Graph nodes can be split up into a partition of layer number or letters\n",
    "        Returns elements at fix: a certain fixed layer number, or letter.  \n",
    "        E.g. 10--> a10, b10, etc.   'n' --> 0,1,2,3, etc.\n",
    "        \n",
    "        This is where words_at_n comes in useful to investigate edge cases\n",
    "        \n",
    "        \"\"\"\n",
    "        elt_arr = []\n",
    "        for i in self.nodes:\n",
    "            if type(fix) == int:\n",
    "                if i[1:] == str(fix): \n",
    "                    elt_arr.append(i)\n",
    "                    elt_arr.sort()\n",
    "            elif type(fix) == str:\n",
    "                if i[0] == fix:\n",
    "                    elt_arr.append(i)\n",
    "                    elt_arr = sorted(elt_arr, key=lambda x: float(x[1:]))\n",
    "        return elt_arr"
   ]
  },
  {
   "cell_type": "code",
   "execution_count": 345,
   "metadata": {
    "ExecuteTime": {
     "end_time": "2020-05-18T20:57:08.610150Z",
     "start_time": "2020-05-18T20:57:08.574483Z"
    }
   },
   "outputs": [],
   "source": [
    "test = LanguageGraphStats(master_graph)"
   ]
  },
  {
   "cell_type": "code",
   "execution_count": 346,
   "metadata": {
    "ExecuteTime": {
     "end_time": "2020-05-18T20:57:11.807137Z",
     "start_time": "2020-05-18T20:57:11.799658Z"
    }
   },
   "outputs": [
    {
     "data": {
      "text/plain": [
       "7162"
      ]
     },
     "execution_count": 346,
     "metadata": {},
     "output_type": "execute_result"
    }
   ],
   "source": [
    "test.getSize('edges')"
   ]
  },
  {
   "cell_type": "code",
   "execution_count": 379,
   "metadata": {
    "ExecuteTime": {
     "end_time": "2020-05-18T21:16:31.030699Z",
     "start_time": "2020-05-18T21:16:31.020977Z"
    }
   },
   "outputs": [
    {
     "data": {
      "text/plain": [
       "['a0',\n",
       " 'a1',\n",
       " 'a2',\n",
       " 'a3',\n",
       " 'a4',\n",
       " 'a5',\n",
       " 'a6',\n",
       " 'a7',\n",
       " 'a8',\n",
       " 'a9',\n",
       " 'a10',\n",
       " 'a11',\n",
       " 'a12',\n",
       " 'a13',\n",
       " 'a14',\n",
       " 'a15',\n",
       " 'a16',\n",
       " 'a17',\n",
       " 'a18',\n",
       " 'a19',\n",
       " 'a20',\n",
       " 'a21',\n",
       " 'a22',\n",
       " 'a23',\n",
       " 'a24',\n",
       " 'a28']"
      ]
     },
     "execution_count": 379,
     "metadata": {},
     "output_type": "execute_result"
    }
   ],
   "source": [
    "z = test.eltsAtPartition('a')\n",
    "z"
   ]
  },
  {
   "cell_type": "code",
   "execution_count": 372,
   "metadata": {
    "ExecuteTime": {
     "end_time": "2020-05-18T21:08:30.794152Z",
     "start_time": "2020-05-18T21:08:30.754305Z"
    }
   },
   "outputs": [],
   "source": [
    "num_letters_at_layer = [len(test.eltsAtPartition(i)) for i in range(30+1)]\n",
    "num_layers_at_letter = [len(test.eltsAtPartition(i)) for i in start_nodes]"
   ]
  },
  {
   "cell_type": "code",
   "execution_count": 383,
   "metadata": {
    "ExecuteTime": {
     "end_time": "2020-05-18T21:17:23.704384Z",
     "start_time": "2020-05-18T21:17:22.944469Z"
    }
   },
   "outputs": [
    {
     "data": {
      "text/plain": [
       "<BarContainer object of 26 artists>"
      ]
     },
     "execution_count": 383,
     "metadata": {},
     "output_type": "execute_result"
    },
    {
     "data": {
      "image/png": "[encoded data removed]",
      "text/plain": [
       "<Figure size 432x288 with 1 Axes>"
      ]
     },
     "metadata": {
      "needs_background": "light"
     },
     "output_type": "display_data"
    },
    {
     "data": {
      "image/png": "[encoded data removed]",
      "text/plain": [
       "<Figure size 432x288 with 1 Axes>"
      ]
     },
     "metadata": {
      "needs_background": "light"
     },
     "output_type": "display_data"
    }
   ],
   "source": [
    "plt.figure()\n",
    "plt.bar(range(31), num_letters_at_layer, alpha = 0.7)\n",
    "plt.figure()\n",
    "plt.bar(start_nodes, num_layers_at_letter, color = 'green', alpha = 0.7)\n"
   ]
  },
  {
   "cell_type": "code",
   "execution_count": null,
   "metadata": {},
   "outputs": [],
   "source": []
  }
 ],
 "metadata": {
  "kernelspec": {
   "display_name": "Python 3",
   "language": "python",
   "name": "python3"
  },
  "language_info": {
   "codemirror_mode": {
    "name": "ipython",
    "version": 3
   },
   "file_extension": ".py",
   "mimetype": "text/x-python",
   "name": "python",
   "nbconvert_exporter": "python",
   "pygments_lexer": "ipython3",
   "version": "3.7.4"
  }
 },
 "nbformat": 4,
 "nbformat_minor": 2
}
