{
 "cells": [
  {
   "cell_type": "code",
   "execution_count": 2,
   "metadata": {
    "ExecuteTime": {
     "end_time": "2020-06-10T00:48:20.941769Z",
     "start_time": "2020-06-10T00:48:11.688129Z"
    },
    "execution": {
     "iopub.execute_input": "2021-03-20T00:38:57.637271Z",
     "iopub.status.busy": "2021-03-20T00:38:57.636389Z",
     "iopub.status.idle": "2021-03-20T00:39:07.764315Z",
     "shell.execute_reply": "2021-03-20T00:39:07.763087Z",
     "shell.execute_reply.started": "2021-03-20T00:38:57.637095Z"
    }
   },
   "outputs": [],
   "source": [
    "import numpy as np\n",
    "import pandas as pd\n",
    "import re\n",
    "import nltk\n",
    "from nltk.corpus import words, wordnet\n",
    "import networkx as nx\n",
    "import statistics\n",
    "from itertools import permutations, combinations\n",
    "import math\n",
    "\n",
    "%matplotlib inline\n",
    "import matplotlib.pyplot as plt\n",
    "from matplotlib import cm\n",
    "\n",
    "import json\n",
    "import pickle\n",
    "import functools\n",
    "import operator\n",
    "from collections import Counter"
   ]
  },
  {
   "cell_type": "markdown",
   "metadata": {},
   "source": [
    "### Resources\n",
    "- [WordNet](https://wordnet.princeton.edu/)\n",
    "    - [youtube tut](https://www.youtube.com/watch?v=T68P5-8tM-Y)\n",
    "- [OPTED](http://www.mso.anu.edu.au/~ralph/OPTED/)\n",
    "- [wordlist](http://wordlist.aspell.net/)\n",
    "\n",
    "Inspiration:\n",
    "- https://en.wikipedia.org/wiki/Combinatorics_on_words\n",
    "    check out Thue's work"
   ]
  },
  {
   "cell_type": "markdown",
   "metadata": {},
   "source": [
    "# Loading, preprocessing\n",
    "\n",
    "Exclusion conditions:\n",
    "\n",
    "- contains numbers or symbols (what about hyphens?)\n",
    "    - Yes, some real words contain hyphens but for now let's focus on \"pure\" words without special symbols\n",
    "- So we don't want numbers, but some real words have them (e.g. catch-22) so what to do? \n",
    "- is an acronym\n",
    "- contains a capital letter not at start of word\n",
    "- is straight up just not a word in the english dictionary (how to check this?)\n",
    "    - I want to remove names and cities (why tf are they in dictionaries in the first place??)\n",
    "        - Can't I just filter by if it starts with a capital word?\n",
    "    - Need to find a corpus with definitions and parts of speech\n",
    "    "
   ]
  },
  {
   "cell_type": "markdown",
   "metadata": {},
   "source": [
    "NLTK corpora"
   ]
  },
  {
   "cell_type": "code",
   "execution_count": 24,
   "metadata": {
    "ExecuteTime": {
     "end_time": "2020-06-10T00:48:34.379193Z",
     "start_time": "2020-06-10T00:48:30.012489Z"
    },
    "execution": {
     "iopub.execute_input": "2021-03-20T00:44:21.438831Z",
     "iopub.status.busy": "2021-03-20T00:44:21.437990Z",
     "iopub.status.idle": "2021-03-20T00:44:24.644128Z",
     "shell.execute_reply": "2021-03-20T00:44:24.642310Z",
     "shell.execute_reply.started": "2021-03-20T00:44:21.438481Z"
    }
   },
   "outputs": [
    {
     "data": {
      "text/plain": [
       "236325"
      ]
     },
     "execution_count": 24,
     "metadata": {},
     "output_type": "execute_result"
    }
   ],
   "source": [
    "# some functions to search words for undesirable properties\n",
    "\n",
    "def has_undesirable(inputStr):\n",
    "    total_bool = bool(re.search(r'\\d', inputStr)) or any(not c.isalnum() for c in inputStr) or any(c.isupper() for c in inputStr)\n",
    "    return total_bool\n",
    "\n",
    "#I totally forgot and didn't document where 'all_words.txt' came from\n",
    "worddf = pd.read_csv('./data/all_words.txt', sep=' ', header=None) #just words\n",
    "wordtxt = np.array(worddf).flatten().tolist()\n",
    "#df2 = pd.read_csv('oed.txt', sep=' ', header=None) #Oxford Eng Dict, broken import\n",
    "\n",
    "#contains most words... missing some past tense, like \"argued\", wtf?\n",
    "manywords = words.words() + list(wordnet.words()) #+ wordtxt\n",
    "manywords = list(dict.fromkeys(manywords)) #remove duplicates\n",
    "manywords = [i for i in manywords if has_undesirable(i) == False]\n",
    "len(manywords)"
   ]
  },
  {
   "cell_type": "markdown",
   "metadata": {},
   "source": [
    "loading the graph edges created later, since it takes 6 min long to create them"
   ]
  },
  {
   "cell_type": "code",
   "execution_count": 18,
   "metadata": {
    "ExecuteTime": {
     "end_time": "2020-05-24T03:54:39.531050Z",
     "start_time": "2020-05-24T03:54:39.501447Z"
    }
   },
   "outputs": [],
   "source": [
    "with open ('./data/master_graph', 'rb') as fp:\n",
    "    master_graph = pickle.load(fp)"
   ]
  },
  {
   "cell_type": "markdown",
   "metadata": {},
   "source": [
    "# Algorithm, Analysis\n",
    "\n",
    "So my initial idea was to calculate hamming distance of words with one another, and coming back to this I am interested in creating the partitions for [symbolic dynamics](http://bactra.org/notebooks/symbolic-dynamics.html) state space.  But those aren't mutually exclusive and can both help construct state graph.\n",
    "\n",
    "Creating dynamics graph:\n",
    "- for each word in corpus, split it into constituent letters\n",
    "- then define it as edges on a graph: e.g. for word graph: g->r->a->p->h becomes {(g,r),(r,a),(a,p),(p,h)}\n",
    "- Construct the entire graph of the english language this way.\n",
    "    - Starting condition is all 26 letters as disjoint nodes\n",
    "    - Append an edge to a letter connecting to a new node \n",
    "    - Is revisiting a letter a cycle or a new node? (e.g. aardvark\n",
    "    - Might have to tweak the rules a bit to avoid redundancies\n",
    "\n",
    "Hamming Rules (?):\n",
    "- Replace letters alphabetically and in quantity until possibilities exhausted, then add the next letter. \n",
    "\n",
    "Analysis:\n",
    "- Under what conditions does non skipping occur? (steps of size 1)\n",
    "- Note statistical properties of letters\n",
    "     - Like what other letters typically trail, \n",
    "- See where switches occur eg \"dating\" vs \"duties\"\n",
    "- HAMMING DISTANCE\n",
    "- Observe nonlinear properties (what did I mean by this?)\n",
    "- What do the outskirts of the graph look like\n",
    "- How does hamming distance relate to graph structure?\n",
    "\n",
    "Further questions:\n",
    "- What do the graphs and properties look like for contextually restricted texts, like essays and books?\n",
    "    - more homogeneity in words and their semantic properties\n",
    "- Semantic clustering\n",
    "- How to incoporate tenses?  (Should word list passed just include the word or all its tenses too?  What happens when you switch from one to the other?)\n",
    "    - compare graphs with and without tenses\n",
    "\n"
   ]
  },
  {
   "cell_type": "markdown",
   "metadata": {},
   "source": [
    "## Hamming Distance and Combinatorics\n",
    "\n",
    "I use the word combinatorics hesitantly because I think it might have applications here but no idea how to implement yet.\n",
    "\n",
    "Want to calculate number of words in a corpus as a function of word and desired distance.  This is where I expect things to be nonlinear.  The limitations are that this is discrete, and so there won't be a lot of points\n",
    " - Since the graph created later denotes letters by their layer, want to find a permutative version of hamming distance (e.g if layer 1, distance 1 is specified, then input of 'duck' will only return 'luck', 'muck', etc.\n",
    "\n",
    "Will be interesting to see how this works for sentences, with words as the atomic elements rather than letters.\n",
    "\n",
    "Next, want to implement [Levenshtein distance](https://en.wikipedia.org/wiki/Levenshtein_distance) since it accounts for words of different lengths\n",
    "\n",
    "Observations: for longer words, flat slope for most short distances, then starts to flatten again at highest distances"
   ]
  },
  {
   "cell_type": "code",
   "execution_count": 5,
   "metadata": {
    "ExecuteTime": {
     "end_time": "2020-06-10T00:49:21.405501Z",
     "start_time": "2020-06-10T00:49:21.396704Z"
    }
   },
   "outputs": [],
   "source": [
    "#from wikipedia\n",
    "def hamming_distance(s1, s2, layers = None) -> int:\n",
    "    \"\"\"\n",
    "    Return the Hamming distance between equal-length sequences.\n",
    "    Added: if layers given, only looks at hamming distance from those layers \n",
    "    \"\"\"\n",
    "    if layers == None:\n",
    "        if len(s1) != len(s2):\n",
    "            raise ValueError(\"Undefined for sequences of unequal length.\")\n",
    "        hdist = sum(el1 != el2 for el1, el2 in zip(s1, s2))\n",
    "    if layers != None:\n",
    "        pass\n",
    "    return hdist"
   ]
  },
  {
   "cell_type": "code",
   "execution_count": 53,
   "metadata": {
    "ExecuteTime": {
     "end_time": "2020-05-28T19:00:12.671318Z",
     "start_time": "2020-05-28T19:00:12.662766Z"
    }
   },
   "outputs": [],
   "source": [
    "def words_at_dist(corpus, word, dist):\n",
    "    \"\"\"\n",
    "    Returns words at the same hamming distance as specified\n",
    "    \"\"\"\n",
    "    equidist = []\n",
    "    for w in corpus:\n",
    "        try:\n",
    "            if hamming_distance(word, w) == dist:\n",
    "                equidist.append(w)\n",
    "        except ValueError:\n",
    "            continue\n",
    "    return equidist\n",
    "    "
   ]
  },
  {
   "cell_type": "code",
   "execution_count": 86,
   "metadata": {
    "ExecuteTime": {
     "end_time": "2020-05-28T23:48:29.773527Z",
     "start_time": "2020-05-28T23:48:29.764213Z"
    }
   },
   "outputs": [],
   "source": [
    "def scaling_dist(corpus, word, verbose = True):\n",
    "    \"\"\"\n",
    "    Returns the number of words at each hamming distance of a word, up to its length\n",
    "    \"\"\"\n",
    "    if word not in corpus:\n",
    "        raise ValueError('Must use a word in the corpus.')\n",
    "    \n",
    "    dists = range(len(word)+1)[1:]\n",
    "        \n",
    "    sizes = [len(words_at_dist(corpus, word, i)) for i in dists]\n",
    "    \n",
    "    if verbose == True:\n",
    "        plt.figure()\n",
    "        plt.plot(dists, sizes)\n",
    "    \n",
    "    return sizes"
   ]
  },
  {
   "cell_type": "code",
   "execution_count": 87,
   "metadata": {
    "ExecuteTime": {
     "end_time": "2020-05-28T23:48:33.575390Z",
     "start_time": "2020-05-28T23:48:30.263363Z"
    }
   },
   "outputs": [
    {
     "data": {
      "image/png": "[encoded data removed]",
      "text/plain": [
       "<Figure size 432x288 with 1 Axes>"
      ]
     },
     "metadata": {
      "needs_background": "light"
     },
     "output_type": "display_data"
    }
   ],
   "source": [
    "s = scaling_dist(manywords, 'patriarchical')"
   ]
  },
  {
   "cell_type": "code",
   "execution_count": 88,
   "metadata": {
    "ExecuteTime": {
     "end_time": "2020-05-28T23:51:57.611219Z",
     "start_time": "2020-05-28T23:51:57.601666Z"
    }
   },
   "outputs": [],
   "source": [
    "def avg_scaling_dist(corpus, length, verbose = True):\n",
    "    \"\"\"\n",
    "    Shows avg number of words with scaling hamming distance + returns other stats about it\n",
    "    \"\"\"\n",
    "#    sizes = []\n",
    "#     words = []\n",
    "#     for w in manywords:\n",
    "#         if len(w) == length:\n",
    "#             words.append(w)\n",
    "            \n",
    "    words = [w for w in manywords if len(w) == length]\n",
    "            \n",
    "#     for w in words:\n",
    "#         sizes.append(scaling_dist(corpus, w, verbose = False))\n",
    "        \n",
    "    sizes = np.array([scaling_dist(corpus, w, verbose = False) for w in words] )\n",
    "        \n",
    "    #sizes = np.array(sizes)\n",
    "    dists = list(range(length+1)[1:])\n",
    "    \n",
    "    if verbose == True:\n",
    "        plt.figure()\n",
    "        plt.plot(dists, np.average(sizes, axis = 0))"
   ]
  },
  {
   "cell_type": "markdown",
   "metadata": {},
   "source": [
    "stopped because it takes too long"
   ]
  },
  {
   "cell_type": "code",
   "execution_count": null,
   "metadata": {
    "ExecuteTime": {
     "end_time": "2020-05-29T00:29:48.089245Z",
     "start_time": "2020-05-28T23:52:07.089139Z"
    }
   },
   "outputs": [],
   "source": [
    "avg_scaling_dist(manywords, 8)"
   ]
  },
  {
   "cell_type": "markdown",
   "metadata": {},
   "source": [
    "### Misc "
   ]
  },
  {
   "cell_type": "code",
   "execution_count": 7,
   "metadata": {
    "execution": {
     "iopub.execute_input": "2020-07-08T23:04:19.597471Z",
     "iopub.status.busy": "2020-07-08T23:04:19.596749Z",
     "iopub.status.idle": "2020-07-08T23:04:20.623996Z",
     "shell.execute_reply": "2020-07-08T23:04:20.622760Z",
     "shell.execute_reply.started": "2020-07-08T23:04:19.597350Z"
    }
   },
   "outputs": [],
   "source": [
    "def backwards(s):\n",
    "    tmp = \"\"\n",
    "    for i in [-1 * elt for elt in range(len(s) +1)][1:]:\n",
    "        tmp = tmp + s[i]\n",
    "        \n",
    "    return tmp \n",
    "\n",
    "palindromes = [i for i in manywords if i == backwards(i)]"
   ]
  },
  {
   "cell_type": "markdown",
   "metadata": {},
   "source": [
    "### Generating random words and seeing where real words fit in hamming space\n",
    "\n",
    "compare all permutations, combinations, and 26^n\n",
    "\n",
    "Kind of like how there are so many particles in the universe but only certain arrangements can harbor life.  Of course this is a simplistic view, as only some particle/letter arrangements are allowed, these are the phonemes. But then what are the restrictions on the phonemes?\n",
    "\n",
    "Also, why is it easier to generate binary numbers as strings rather than numbers? What does this say about the structure of information and numbers?\n",
    "\n",
    "Finding ALL possible words at a size n (which is 26^n) quickly becomes quite hairy.  The list of size 6 words is 178 MB!\n",
    "\n",
    "Hamming things: not sure where to go here.  "
   ]
  },
  {
   "cell_type": "code",
   "execution_count": 110,
   "metadata": {
    "ExecuteTime": {
     "end_time": "2020-06-10T02:12:19.588634Z",
     "start_time": "2020-06-10T02:12:19.575013Z"
    }
   },
   "outputs": [],
   "source": [
    "def perm_size_n(alphabet, n): \n",
    "    tups = list(permutations(alphabet, n))\n",
    "    perms = [''.join(perm) for perm in tups]\n",
    "    return perms\n",
    "\n",
    "def combo_size_n(alphabet, n): \n",
    "    tups = list(combinations(alphabet, n))\n",
    "    perms = [''.join(perm) for perm in tups]\n",
    "    return perms\n",
    "\n",
    "\n",
    "def all_words_size_n(alphabet, n):\n",
    "    \"\"\"All words in the formal grammar sense, most of these words won't exist\"\"\"\n",
    "    arr = []\n",
    "    def generate_words(n, string):\n",
    "        #inspired by https://stackoverflow.com/questions/14876564/what-is-the-best-way-to-recursively-generate-all-binary-strings-of-length-n\n",
    "        if n > 0:\n",
    "            for l in alphabet:\n",
    "                generate_words(n-1, string + l)\n",
    "        else:\n",
    "            arr.append(string)\n",
    "    generate_words(n,\"\")\n",
    "    return arr\n",
    "\n",
    "def real_words_size_n(corpus, n):\n",
    "    words = [word for word in corpus if len(word) == n]\n",
    "    return words"
   ]
  },
  {
   "cell_type": "code",
   "execution_count": null,
   "metadata": {
    "ExecuteTime": {
     "end_time": "2020-06-10T02:07:49.588044Z",
     "start_time": "2020-06-10T02:07:48.302236Z"
    }
   },
   "outputs": [],
   "source": [
    "num_words_at_size = [len(real_words_size_n(manywords, i)) for i in range(1,32)] #the longest word is 31 char long\n",
    "combination = lambda n,k: math.factorial(n) / (math.factorial(k) * math.factorial(n-k))\n",
    "permutation = lambda n,k: math.factorial(n) / math.factorial(n-k)\n",
    "\n",
    "num_words_combo = [combination(26,k) for k in range(1,26)]\n",
    "num_words_perm = [permutation(26,k) for k in range(1,26)]\n",
    "num_words_all = [26**k for k in range(1,32)]"
   ]
  },
  {
   "cell_type": "code",
   "execution_count": 152,
   "metadata": {
    "ExecuteTime": {
     "end_time": "2020-06-10T02:43:07.237504Z",
     "start_time": "2020-06-10T02:43:06.499791Z"
    }
   },
   "outputs": [
    {
     "data": {
      "image/png": "[encoded data removed]",
      "text/plain": [
       "<Figure size 432x288 with 1 Axes>"
      ]
     },
     "metadata": {
      "needs_background": "light"
     },
     "output_type": "display_data"
    }
   ],
   "source": [
    "def size_plots_compared(ylim):\n",
    "    plt.rcParams[\"axes.prop_cycle\"] = plt.cycler(\"color\", plt.cm.jet(np.linspace(0,1,4)))\n",
    "    plt.figure()\n",
    "    plt.ylim(top=ylim)\n",
    "    plt.plot(range(1,32), num_words_at_size, label = 'Real words')\n",
    "    plt.plot(range(1,32), num_words_all, label = 'all possible words')\n",
    "    plt.plot(range(1,26), num_words_perm, label = 'all permutations')\n",
    "    plt.plot(range(1,26), num_words_combo, label = 'all combinations')\n",
    "\n",
    "    plt.legend()\n",
    "    plt.show()\n",
    "    \n",
    "size_plots_compared(1e5)"
   ]
  },
  {
   "cell_type": "markdown",
   "metadata": {},
   "source": [
    "# Beginning to answer the question: what is the ratio of real patterns to all possible ones?\n",
    "\n",
    "many versions of this: what is the ratio of natural images to all possible images?\n",
    "\n",
    "Answering this rudimentarily starting with words: as word length increases, find ratio of all real words to all possible arrangements of letters\n",
    "\n",
    "The result: 2.4952609837840558e-29.  Does this hold for texts?"
   ]
  },
  {
   "cell_type": "code",
   "execution_count": 26,
   "metadata": {
    "execution": {
     "iopub.execute_input": "2021-03-20T00:58:01.539608Z",
     "iopub.status.busy": "2021-03-20T00:58:01.538961Z",
     "iopub.status.idle": "2021-03-20T00:58:03.789903Z",
     "shell.execute_reply": "2021-03-20T00:58:03.788334Z",
     "shell.execute_reply.started": "2021-03-20T00:58:01.539503Z"
    }
   },
   "outputs": [
    {
     "name": "stdout",
     "output_type": "stream",
     "text": [
      "ratio of all words to all possible letter combos: 2.4952609837840558e-29\n"
     ]
    },
    {
     "data": {
      "image/png": "[encoded data removed]",
      "text/plain": [
       "<Figure size 432x288 with 1 Axes>"
      ]
     },
     "metadata": {
      "needs_background": "light"
     },
     "output_type": "display_data"
    }
   ],
   "source": [
    "def word_ratio(size):\n",
    "    words_at_size = []\n",
    "    for w in manywords:\n",
    "        if len(w) is size:\n",
    "            words_at_size.append(w)\n",
    "    return len(words_at_size)/26**size \n",
    "\n",
    "ratios = []\n",
    "for l in range(25): #cutting off at 25\n",
    "    if word_ratio(l) != 0:\n",
    "        ratios.append(word_ratio(l))\n",
    "    else:\n",
    "        ratios.append(np.nan)\n",
    "\n",
    "plt.semilogy(ratios, '.-'); plt.xlabel('word length'); plt.ylabel('|real words| / |string permutations|')\n",
    "plt.title('Ratio of the number of real words to possible words, as a function of word length')\n",
    "\n",
    "print('ratio of all words to all possible letter combos: {}'.format(len(manywords)/sum([26**n for n in range(25)])))"
   ]
  },
  {
   "cell_type": "markdown",
   "metadata": {},
   "source": [
    "## Word Graphs"
   ]
  },
  {
   "cell_type": "code",
   "execution_count": 64,
   "metadata": {
    "ExecuteTime": {
     "end_time": "2020-05-25T00:55:04.927428Z",
     "start_time": "2020-05-25T00:55:04.913191Z"
    }
   },
   "outputs": [],
   "source": [
    "def gen_word_chars(corpus, mode = 'acyclic'):\n",
    "    word_chars = []\n",
    "    for word in corpus:\n",
    "        word_arr = []\n",
    "        if mode == 'acyclic':\n",
    "            for n_i, i in enumerate(word):\n",
    "                word_arr.append(i+str(n_i))\n",
    "        else: \n",
    "            word_arr.append(i)\n",
    "        word_chars.append(word_arr)\n",
    "    \n",
    "    return word_chars\n",
    "\n",
    "def gen_word_graphs(corpus, mode = 'acyclic'):\n",
    "    \"\"\"\n",
    "    Converts all words of a corpus into edges\n",
    "    E.g. \"graph\" becomes [(g,r),(r,a),(a,p),(p,h)]\n",
    "    If mode is cyclic then does not append layer number at end of a letter.\n",
    "    \"\"\"\n",
    "    word_edges = []\n",
    "    for word in corpus:\n",
    "        edge_list = []\n",
    "        for n_i, i in enumerate(word):\n",
    "            try:\n",
    "                if mode == 'acyclic':\n",
    "                    edge_list.append((word[n_i] + str(n_i), word[n_i+1] + str(n_i+1)))\n",
    "                else:\n",
    "                    edge_list.append((word[n_i], word[n_i+1]))\n",
    "            except IndexError:\n",
    "                break\n",
    "\n",
    "        word_edges.append(edge_list)\n",
    "        \n",
    "    return [x for x in word_edges if x != []]"
   ]
  },
  {
   "cell_type": "code",
   "execution_count": 10,
   "metadata": {
    "ExecuteTime": {
     "end_time": "2020-05-24T03:42:59.873832Z",
     "start_time": "2020-05-24T03:42:55.004792Z"
    }
   },
   "outputs": [],
   "source": [
    "word_edges = gen_word_graphs(manywords)"
   ]
  },
  {
   "cell_type": "code",
   "execution_count": null,
   "metadata": {
    "ExecuteTime": {
     "end_time": "2020-05-25T00:55:11.813908Z",
     "start_time": "2020-05-25T00:55:09.055806Z"
    }
   },
   "outputs": [],
   "source": [
    "word_chars = gen_word_chars(manywords)\n",
    "len(word_chars)"
   ]
  },
  {
   "cell_type": "markdown",
   "metadata": {
    "ExecuteTime": {
     "end_time": "2020-05-17T21:02:43.888974Z",
     "start_time": "2020-05-17T21:02:43.487351Z"
    }
   },
   "source": [
    "notice that single words (\"a\", or \"I\") don't appear in word_edges because they are single nodes.  Does this matter? (probably not, until I find a way to incorporate stop conditions, which is which letter to stop at)\n",
    "\n",
    "Now we initialize the starting nodes (the first letter of a word) which are disjoint, since if one pointed to the other, the latter would no longer be a starting node.\n",
    "\n",
    "### Analysis\n",
    "Could be interesting to compare degrees of these, and then for each next \"layer\" of nodes (high dimensional so layers are not well defined)\n",
    "   - Degrees for most starting points will most likely be around 20-26\n",
    "   - Will decrease as you move up\n",
    "   - Degree one when you are on the path of a unique word\n",
    "   - in-degree vs out-degree?\n",
    "   - Vowels vs consonants?  (and are patterns between the two consistent across languages?)\n",
    "   \n",
    "When do we see discontinuities for letters at certain layers?  E.g. there is no z20 but there is a z22\n",
    "   \n",
    "Also want to see distribution of letter layers and layers: (i.e. how many z10's are there vs b10?  What is the highest layer number and which letters occupy that?)\n",
    "\n",
    "Algorithm:\n",
    "1. Go through each element of word_edges.  If you encounter a new edge (e.g. ('a','a'), append to graph.  If you encounter it again, skip. \n",
    "2.  Once you've gone through index 0 of each word, now go through the next and repeat.\n",
    "\n",
    "Cyclical version: layer doesn't matter.  The state space would be partitioned into 26.  There can be loops.  \n",
    "   - Information loss (e.g. don't know if to repeat 3 times) without knowledge of dynamics\n",
    "   \n",
    "Acyclic version: layer matters, can have \"repeated\" nodes (though layer ID would differ). "
   ]
  },
  {
   "cell_type": "code",
   "execution_count": 6,
   "metadata": {
    "ExecuteTime": {
     "end_time": "2020-06-10T00:58:26.295888Z",
     "start_time": "2020-06-10T00:58:26.287869Z"
    }
   },
   "outputs": [],
   "source": [
    "#used later for random reasons\n",
    "letters = ['a','b','c','d','e','f','g','h','i','j','k','l','m',\n",
    "               'n','o','p','q','r','s','t','u','v','w','x','y','z']"
   ]
  },
  {
   "cell_type": "code",
   "execution_count": 12,
   "metadata": {
    "ExecuteTime": {
     "end_time": "2020-05-24T03:43:04.477354Z",
     "start_time": "2020-05-24T03:43:04.470322Z"
    }
   },
   "outputs": [],
   "source": [
    "def gen_master_graph(edges):\n",
    "    \"\"\"\n",
    "    Creates a connected digraph based on an input of allowed edges.  \n",
    "    With this graph you can create any word by following edges.\n",
    "    \"\"\"\n",
    "    master_graph = []\n",
    "    for word in edges:\n",
    "        for edge in word:\n",
    "            if edge not in master_graph:\n",
    "                master_graph.append(edge)\n",
    "    return master_graph"
   ]
  },
  {
   "cell_type": "code",
   "execution_count": 13,
   "metadata": {
    "ExecuteTime": {
     "end_time": "2020-05-24T03:50:39.546852Z",
     "start_time": "2020-05-24T03:43:05.750044Z"
    }
   },
   "outputs": [
    {
     "data": {
      "text/plain": [
       "7162"
      ]
     },
     "execution_count": 13,
     "metadata": {},
     "output_type": "execute_result"
    }
   ],
   "source": [
    "master_graph = gen_master_graph(word_edges)\n",
    "len(master_graph)"
   ]
  },
  {
   "cell_type": "code",
   "execution_count": 14,
   "metadata": {
    "ExecuteTime": {
     "end_time": "2020-05-24T03:53:11.534242Z",
     "start_time": "2020-05-24T03:53:11.489691Z"
    }
   },
   "outputs": [],
   "source": [
    "with open('./master_graph', 'wb') as fp:\n",
    "    pickle.dump(master_graph, fp)"
   ]
  },
  {
   "cell_type": "markdown",
   "metadata": {},
   "source": [
    "Updated preprocessing pruned 10k of the edges!"
   ]
  },
  {
   "cell_type": "code",
   "execution_count": 19,
   "metadata": {
    "ExecuteTime": {
     "end_time": "2020-05-24T03:55:04.442361Z",
     "start_time": "2020-05-24T03:55:04.431262Z"
    }
   },
   "outputs": [],
   "source": [
    "def edges_at_n(corpus_graph, node, pos = 'in'):\n",
    "    \"\"\"\n",
    "    returns edges that start or end with a given node \n",
    "    note: the length of the array when pos == 'in' is the same as the out degree, and vice versa \n",
    "    \"\"\"\n",
    "    if pos == 'in':\n",
    "        index = 0\n",
    "    elif pos == 'out':\n",
    "        index = 1\n",
    "    np_master = np.array(corpus_graph)\n",
    "    loc_arr = np.where(np_master[:,index] == node)\n",
    "    edges = []\n",
    "    for i in loc_arr[0]:\n",
    "        edges.append(corpus_graph[i])\n",
    "    return edges"
   ]
  },
  {
   "cell_type": "code",
   "execution_count": 20,
   "metadata": {
    "ExecuteTime": {
     "end_time": "2020-05-24T03:55:04.985806Z",
     "start_time": "2020-05-24T03:55:04.968449Z"
    }
   },
   "outputs": [],
   "source": [
    "x = edges_at_n(master_graph, 'b3', pos = 'out')"
   ]
  },
  {
   "cell_type": "markdown",
   "metadata": {},
   "source": [
    "Based on this observation, want to expunge words with numbers... Cause who tf puts \"a_1\" in a corpus of words"
   ]
  },
  {
   "cell_type": "code",
   "execution_count": 118,
   "metadata": {
    "ExecuteTime": {
     "end_time": "2020-05-25T01:31:03.500058Z",
     "start_time": "2020-05-25T01:31:03.435719Z"
    }
   },
   "outputs": [],
   "source": [
    "G = nx.DiGraph(master_graph)"
   ]
  },
  {
   "cell_type": "markdown",
   "metadata": {},
   "source": [
    "as of 5/18/20, current size of the corpus is 236,325 (google says the Oxford English Dictionary contains full entries for 171,476 words in current use; 47,156 of which are obsolete words).  The current master graph for the corpus contains 560 nodes, and 7,162 edges.  Which is pretty cool.  So I wonder how close this is to the real statistics, given a \"pure\" corpus of the english language, excluding tenses.  \n",
    "\n",
    "From earlier: A little sus that there is even a word whose 21st letter is z.  So want to make a function that shows list of words where a given index is a certain letter.  \n",
    "\n",
    "Why does degree change when changing to a digraph?  e.g for z20 it went from 27 to 13??"
   ]
  },
  {
   "cell_type": "code",
   "execution_count": 21,
   "metadata": {
    "ExecuteTime": {
     "end_time": "2020-05-24T03:55:09.888759Z",
     "start_time": "2020-05-24T03:55:09.881185Z"
    }
   },
   "outputs": [],
   "source": [
    "def words_at_n(corpus, letter, pos):\n",
    "    \"\"\"\n",
    "    returns list of words where a given index is a certain letter\n",
    "    \"\"\"\n",
    "    targets = []\n",
    "    for word in corpus:\n",
    "        try:\n",
    "            if word[pos] == letter:\n",
    "                targets.append(word)\n",
    "        except IndexError:\n",
    "            continue\n",
    "    return targets"
   ]
  },
  {
   "cell_type": "markdown",
   "metadata": {},
   "source": [
    "Would be interesting to see statistics of this function for varying the letters and positions\n",
    "\n",
    "Also some of these words may not exist? E.g. those with z @ index 18: 'counterrevolutionize', 'disdenominationalize'"
   ]
  },
  {
   "cell_type": "code",
   "execution_count": 22,
   "metadata": {
    "ExecuteTime": {
     "end_time": "2020-05-24T03:55:16.831150Z",
     "start_time": "2020-05-24T03:55:16.635603Z"
    }
   },
   "outputs": [
    {
     "data": {
      "text/plain": [
       "['chlorobenzylidenemalononitrile']"
      ]
     },
     "execution_count": 22,
     "metadata": {},
     "output_type": "execute_result"
    }
   ],
   "source": [
    "words_at_n(manywords, 'e', 29)"
   ]
  },
  {
   "cell_type": "markdown",
   "metadata": {},
   "source": [
    "### Functions to make\n",
    "\n",
    "- One that checks whether given [consecutive] edges form an existing word, and then using it to identify which nodes can be stopping points.\n",
    "    - or backwards, given a word create those edges\n",
    "- Graph stats regarding its nodes\n",
    "    - longest word, and where it stands relative to other words\n",
    "    - Distribution of degree in the overall graph\n",
    "        - Also, given a word, show degree, in degree, and out degree of each of those nodes \n",
    "    - Compare letters vs layers \n",
    "        - see where discontinuities in layers occur (no z20 for example)\n",
    "    \n",
    "- How can this graph be partitioned?"
   ]
  },
  {
   "cell_type": "code",
   "execution_count": 188,
   "metadata": {
    "ExecuteTime": {
     "end_time": "2020-05-25T02:32:53.331765Z",
     "start_time": "2020-05-25T02:32:53.304347Z"
    }
   },
   "outputs": [],
   "source": [
    "class LanguageGraphStats:\n",
    "    def __init__(self, master_graph, mode = 'digraph'):\n",
    "        \"\"\"\n",
    "        \n",
    "        \"\"\"\n",
    "        if mode == 'digraph':\n",
    "            self.nx_graph = nx.DiGraph(master_graph)\n",
    "        else:\n",
    "            self.nx_graph = nx.Graph(master_graph)\n",
    "            \n",
    "        self.nodes = list(self.nx_graph.nodes)\n",
    "        self.edges = master_graph\n",
    "        self.layers = [int(i[1:]) for i in self.nodes]\n",
    "        \n",
    "    def getSize(self, part = None):\n",
    "        if part == 'nodes':\n",
    "            return len(self.nodes)\n",
    "        elif part == 'edges':\n",
    "            return len(self.edges)\n",
    "        elif part == 'layers':\n",
    "            return max(self.layers)\n",
    "    \n",
    "    def eltsAtPartition(self, fix = None):\n",
    "        \"\"\"\n",
    "        Graph nodes can be split up into a partition of layer number or letters\n",
    "        Returns elements at fix: a certain fixed layer number, or letter.  \n",
    "        E.g. 10--> a10, b10, etc.   'n' --> 0,1,2,3, etc.\n",
    "        \n",
    "        This is where words_at_n comes in useful to investigate edge cases\n",
    "        \n",
    "        \"\"\"\n",
    "        elt_arr = []\n",
    "        for i in self.nodes:\n",
    "            if type(fix) == int:\n",
    "                if i[1:] == str(fix): \n",
    "                    elt_arr.append(i)\n",
    "                    elt_arr.sort()\n",
    "            elif type(fix) == str:\n",
    "                if i[0] == fix:\n",
    "                    elt_arr.append(i)\n",
    "                    elt_arr = sorted(elt_arr, key=lambda x: float(x[1:])) #from stackoverflow; idk how this works but I should \n",
    "        return elt_arr\n",
    "    \n",
    "    def getDegree(self, elt, di = None):\n",
    "        \"\"\"\n",
    "        elt: element (e.g. b10)\n",
    "        di: direction (in or out)\n",
    "        \"\"\"\n",
    "        if di == 'in':\n",
    "            degree = self.nx_graph.in_degree[elt]\n",
    "        elif di == 'out':\n",
    "            degree = self.nx_graph.out_degree[elt]\n",
    "        else:\n",
    "            degree = self.nx_graph.degree[elt]\n",
    "        return degree\n",
    "    \n",
    "    def Freq(self, arr = None, part = None, verbose = True, norm = True):\n",
    "        \"\"\"\n",
    "        Returns a dictionary showing the frequency of an edge or node in a corpus\n",
    "        If verbose == True, prints basic statistics and charts \n",
    "        \"\"\"\n",
    "        \n",
    "        if part == 'edges':\n",
    "            flat_edges = functools.reduce(operator.iconcat, arr, []) #flattens word_edges (np.flatten() wasn't cooperating)\n",
    "            freqs = Counter(flat_edges)\n",
    "        \n",
    "        elif part == 'nodes':\n",
    "            flat_nodes = functools.reduce(operator.iconcat, arr, []) #flattens word_chars\n",
    "            freqs = Counter(flat_nodes)\n",
    "        \n",
    "        vals = list(freqs.values())\n",
    "        \n",
    "        if norm == True:\n",
    "            #scale = sum(vals) / len(vals) #just the avg for now\n",
    "            scale = max(vals) / 15 # so that n is the maximum \n",
    "            vals = np.array(vals)/scale\n",
    "            for k in freqs:\n",
    "                freqs[k] = int(freqs[k]/scale)\n",
    "            \n",
    "        if verbose == True:\n",
    "            plt.figure()\n",
    "            #got to figure out a better x axis\n",
    "            #plt.bar(range(len(freqs)), vals, alpha = 0.7)\n",
    "            plt.hist(np.array(vals))\n",
    "            print(str(part)[:-1]+' frequency stats\\n')\n",
    "            print('Max: ' + str(max(vals)), 'Min: '+ str(min(vals)), 'Avg: ' + str(sum(vals) / len(vals)), 'Std: ' + str(statistics.stdev(vals)) )\n",
    "            \n",
    "        return freqs"
   ]
  },
  {
   "cell_type": "code",
   "execution_count": 189,
   "metadata": {
    "ExecuteTime": {
     "end_time": "2020-05-25T02:32:53.699327Z",
     "start_time": "2020-05-25T02:32:53.658822Z"
    }
   },
   "outputs": [],
   "source": [
    "gstats = LanguageGraphStats(master_graph)"
   ]
  },
  {
   "cell_type": "code",
   "execution_count": 27,
   "metadata": {
    "ExecuteTime": {
     "end_time": "2020-05-24T03:56:06.517271Z",
     "start_time": "2020-05-24T03:56:06.509308Z"
    }
   },
   "outputs": [
    {
     "data": {
      "text/plain": [
       "1"
      ]
     },
     "execution_count": 27,
     "metadata": {},
     "output_type": "execute_result"
    }
   ],
   "source": [
    "gstats.getDegree('e29')"
   ]
  },
  {
   "cell_type": "markdown",
   "metadata": {},
   "source": [
    "So we can use the eltsAtPartition method to make the arrays for getDegree"
   ]
  },
  {
   "cell_type": "markdown",
   "metadata": {},
   "source": [
    "### Looking at distribution of degrees\n",
    "\n",
    "Also two partitions, but first looking at it by letter. \n",
    "\n",
    "Would ideally like to overlay in degree over out degree.\n"
   ]
  },
  {
   "cell_type": "code",
   "execution_count": 28,
   "metadata": {
    "ExecuteTime": {
     "end_time": "2020-05-24T03:56:08.538332Z",
     "start_time": "2020-05-24T03:56:08.509027Z"
    }
   },
   "outputs": [],
   "source": [
    "degree_dict = dict.fromkeys(letters)\n",
    "for i in letters:\n",
    "    elts = gstats.eltsAtPartition(i)\n",
    "    degs =  []\n",
    "    for e in elts:\n",
    "        degs.append(gstats.getDegree(e, di='in'))\n",
    "    degree_dict[i] = degs"
   ]
  },
  {
   "cell_type": "code",
   "execution_count": 29,
   "metadata": {
    "ExecuteTime": {
     "end_time": "2020-05-24T03:56:23.075638Z",
     "start_time": "2020-05-24T03:56:11.386274Z"
    }
   },
   "outputs": [
    {
     "name": "stderr",
     "output_type": "stream",
     "text": [
      "/Users/brianbarry/opt/anaconda3/lib/python3.7/site-packages/ipykernel_launcher.py:2: RuntimeWarning: More than 20 figures have been opened. Figures created through the pyplot interface (`matplotlib.pyplot.figure`) are retained until explicitly closed and may consume too much memory. (To control this warning, see the rcParam `figure.max_open_warning`).\n",
      "  \n"
     ]
    },
    {
     "data": {
      "image/png": "[encoded data removed]",
      "text/plain": [
       "<Figure size 432x288 with 1 Axes>"
      ]
     },
     "metadata": {
      "needs_background": "light"
     },
     "output_type": "display_data"
    },
    {
     "data": {
      "image/png": "[encoded data removed]",
      "text/plain": [
       "<Figure size 432x288 with 1 Axes>"
      ]
     },
     "metadata": {
      "needs_background": "light"
     },
     "output_type": "display_data"
    },
    {
     "data": {
      "image/png": "[encoded data removed]",
      "text/plain": [
       "<Figure size 432x288 with 1 Axes>"
      ]
     },
     "metadata": {
      "needs_background": "light"
     },
     "output_type": "display_data"
    },
    {
     "data": {
      "image/png": "[encoded data removed]",
      "text/plain": [
       "<Figure size 432x288 with 1 Axes>"
      ]
     },
     "metadata": {
      "needs_background": "light"
     },
     "output_type": "display_data"
    },
    {
     "data": {
      "image/png": "[encoded data removed]",
      "text/plain": [
       "<Figure size 432x288 with 1 Axes>"
      ]
     },
     "metadata": {
      "needs_background": "light"
     },
     "output_type": "display_data"
    },
    {
     "data": {
      "image/png": "[encoded data removed]",
      "text/plain": [
       "<Figure size 432x288 with 1 Axes>"
      ]
     },
     "metadata": {
      "needs_background": "light"
     },
     "output_type": "display_data"
    },
    {
     "data": {
      "image/png": "[encoded data removed]",
      "text/plain": [
       "<Figure size 432x288 with 1 Axes>"
      ]
     },
     "metadata": {
      "needs_background": "light"
     },
     "output_type": "display_data"
    },
    {
     "data": {
      "image/png": "[encoded data removed]",
      "text/plain": [
       "<Figure size 432x288 with 1 Axes>"
      ]
     },
     "metadata": {
      "needs_background": "light"
     },
     "output_type": "display_data"
    },
    {
     "data": {
      "image/png": "[encoded data removed]",
      "text/plain": [
       "<Figure size 432x288 with 1 Axes>"
      ]
     },
     "metadata": {
      "needs_background": "light"
     },
     "output_type": "display_data"
    },
    {
     "data": {
      "image/png": "[encoded data removed]",
      "text/plain": [
       "<Figure size 432x288 with 1 Axes>"
      ]
     },
     "metadata": {
      "needs_background": "light"
     },
     "output_type": "display_data"
    },
    {
     "data": {
      "image/png": "[encoded data removed]",
      "text/plain": [
       "<Figure size 432x288 with 1 Axes>"
      ]
     },
     "metadata": {
      "needs_background": "light"
     },
     "output_type": "display_data"
    },
    {
     "data": {
      "image/png": "[encoded data removed]",
      "text/plain": [
       "<Figure size 432x288 with 1 Axes>"
      ]
     },
     "metadata": {
      "needs_background": "light"
     },
     "output_type": "display_data"
    },
    {
     "data": {
      "image/png": "[encoded data removed]",
      "text/plain": [
       "<Figure size 432x288 with 1 Axes>"
      ]
     },
     "metadata": {
      "needs_background": "light"
     },
     "output_type": "display_data"
    },
    {
     "data": {
      "image/png": "[encoded data removed]",
      "text/plain": [
       "<Figure size 432x288 with 1 Axes>"
      ]
     },
     "metadata": {
      "needs_background": "light"
     },
     "output_type": "display_data"
    },
    {
     "data": {
      "image/png": "[encoded data removed]",
      "text/plain": [
       "<Figure size 432x288 with 1 Axes>"
      ]
     },
     "metadata": {
      "needs_background": "light"
     },
     "output_type": "display_data"
    },
    {
     "data": {
      "image/png": "[encoded data removed]",
      "text/plain": [
       "<Figure size 432x288 with 1 Axes>"
      ]
     },
     "metadata": {
      "needs_background": "light"
     },
     "output_type": "display_data"
    },
    {
     "data": {
      "image/png": "[encoded data removed]",
      "text/plain": [
       "<Figure size 432x288 with 1 Axes>"
      ]
     },
     "metadata": {
      "needs_background": "light"
     },
     "output_type": "display_data"
    },
    {
     "data": {
      "image/png": "[encoded data removed]",
      "text/plain": [
       "<Figure size 432x288 with 1 Axes>"
      ]
     },
     "metadata": {
      "needs_background": "light"
     },
     "output_type": "display_data"
    },
    {
     "data": {
      "image/png": "[encoded data removed]",
      "text/plain": [
       "<Figure size 432x288 with 1 Axes>"
      ]
     },
     "metadata": {
      "needs_background": "light"
     },
     "output_type": "display_data"
    },
    {
     "data": {
      "image/png": "[encoded data removed]",
      "text/plain": [
       "<Figure size 432x288 with 1 Axes>"
      ]
     },
     "metadata": {
      "needs_background": "light"
     },
     "output_type": "display_data"
    },
    {
     "data": {
      "image/png": "[encoded data removed]",
      "text/plain": [
       "<Figure size 432x288 with 1 Axes>"
      ]
     },
     "metadata": {
      "needs_background": "light"
     },
     "output_type": "display_data"
    },
    {
     "data": {
      "image/png": "[encoded data removed]",
      "text/plain": [
       "<Figure size 432x288 with 1 Axes>"
      ]
     },
     "metadata": {
      "needs_background": "light"
     },
     "output_type": "display_data"
    },
    {
     "data": {
      "image/png": "[encoded data removed]",
      "text/plain": [
       "<Figure size 432x288 with 1 Axes>"
      ]
     },
     "metadata": {
      "needs_background": "light"
     },
     "output_type": "display_data"
    },
    {
     "data": {
      "image/png": "[encoded data removed]",
      "text/plain": [
       "<Figure size 432x288 with 1 Axes>"
      ]
     },
     "metadata": {
      "needs_background": "light"
     },
     "output_type": "display_data"
    },
    {
     "data": {
      "image/png": "[encoded data removed]",
      "text/plain": [
       "<Figure size 432x288 with 1 Axes>"
      ]
     },
     "metadata": {
      "needs_background": "light"
     },
     "output_type": "display_data"
    },
    {
     "data": {
      "image/png": "[encoded data removed]",
      "text/plain": [
       "<Figure size 432x288 with 1 Axes>"
      ]
     },
     "metadata": {
      "needs_background": "light"
     },
     "output_type": "display_data"
    }
   ],
   "source": [
    "for i in degree_dict.keys():\n",
    "    plt.figure()\n",
    "    plt.bar(gstats.eltsAtPartition(i), degree_dict[i])"
   ]
  },
  {
   "cell_type": "markdown",
   "metadata": {},
   "source": [
    "### and now looking at distribution of degree numbers\n",
    "\n",
    "mainly to get an idea of color scale for graph vis"
   ]
  },
  {
   "cell_type": "code",
   "execution_count": 201,
   "metadata": {
    "ExecuteTime": {
     "end_time": "2020-05-25T02:45:01.787104Z",
     "start_time": "2020-05-25T02:45:01.019560Z"
    }
   },
   "outputs": [
    {
     "name": "stdout",
     "output_type": "stream",
     "text": [
      "Max: 52 Min: 1 Avg: 25.57857142857143 Std: 16.92985332348799\n",
      "Max: 26 Min: 0 Avg: 12.789285714285715 Std: 8.76926815017073\n",
      "Max: 26 Min: 0 Avg: 12.789285714285715 Std: 9.010144919731976\n"
     ]
    },
    {
     "data": {
      "image/png": "[encoded data removed]",
      "text/plain": [
       "<Figure size 432x288 with 1 Axes>"
      ]
     },
     "metadata": {
      "needs_background": "light"
     },
     "output_type": "display_data"
    },
    {
     "data": {
      "image/png": "[encoded data removed]",
      "text/plain": [
       "<Figure size 432x288 with 1 Axes>"
      ]
     },
     "metadata": {
      "needs_background": "light"
     },
     "output_type": "display_data"
    },
    {
     "data": {
      "image/png": "[encoded data removed]",
      "text/plain": [
       "<Figure size 432x288 with 1 Axes>"
      ]
     },
     "metadata": {
      "needs_background": "light"
     },
     "output_type": "display_data"
    }
   ],
   "source": [
    "l = [G.degree, G.in_degree, G.out_degree]\n",
    "\n",
    "for i in l:\n",
    "    plt.figure()\n",
    "    vals = list(dict(i).values())\n",
    "    plt.hist(vals)\n",
    "    print('Max: ' + str(max(vals)), 'Min: '+ str(min(vals)), 'Avg: ' + str(sum(vals) / len(vals)), 'Std: ' + str(statistics.stdev(vals)) )"
   ]
  },
  {
   "cell_type": "markdown",
   "metadata": {},
   "source": [
    "### Looking at distribution of partitions\n",
    "\n",
    "How many letters are at a given layer, and how many layers are at a given letter"
   ]
  },
  {
   "cell_type": "code",
   "execution_count": 372,
   "metadata": {
    "ExecuteTime": {
     "end_time": "2020-05-18T21:08:30.794152Z",
     "start_time": "2020-05-18T21:08:30.754305Z"
    }
   },
   "outputs": [],
   "source": [
    "num_letters_at_layer = [len(gstats.eltsAtPartition(i)) for i in range(30+1)]\n",
    "num_layers_at_letter = [len(gstats.eltsAtPartition(i)) for i in letters]"
   ]
  },
  {
   "cell_type": "code",
   "execution_count": 383,
   "metadata": {
    "ExecuteTime": {
     "end_time": "2020-05-18T21:17:23.704384Z",
     "start_time": "2020-05-18T21:17:22.944469Z"
    }
   },
   "outputs": [
    {
     "data": {
      "text/plain": [
       "<BarContainer object of 26 artists>"
      ]
     },
     "execution_count": 383,
     "metadata": {},
     "output_type": "execute_result"
    },
    {
     "data": {
      "image/png": "[encoded data removed]",
      "text/plain": [
       "<Figure size 432x288 with 1 Axes>"
      ]
     },
     "metadata": {
      "needs_background": "light"
     },
     "output_type": "display_data"
    },
    {
     "data": {
      "image/png": "[encoded data removed]",
      "text/plain": [
       "<Figure size 432x288 with 1 Axes>"
      ]
     },
     "metadata": {
      "needs_background": "light"
     },
     "output_type": "display_data"
    }
   ],
   "source": [
    "plt.figure()\n",
    "plt.bar(range(31), num_letters_at_layer, alpha = 0.7)\n",
    "plt.figure()\n",
    "plt.bar(start_nodes, num_layers_at_letter, color = 'green', alpha = 0.7)"
   ]
  },
  {
   "cell_type": "markdown",
   "metadata": {},
   "source": [
    "### Exporting to json to visualize in d3\n",
    "\n",
    "- Want to add a frequency attribute (in degree or out degree?) to nodes and edges (how to do it for edges? Degree of second node in edge?) for visualization.\n",
    "- Figure out how to normalize the degree\n",
    "    - If degree is the best way to measure node acitivty and edge crossing is the best for edges, then maybe use both and normalize to same scale?\n",
    "    - At some point I rescaled the freqs so both have max of 15, then took the log.  I don't know why I decided to do that and it suggests that I don't understand math.  I guess I'm thinking about loglog plots as that's the scale I'm after \n",
    "    - Maybe next time: try to change line width in js to emphasize more crossed paths"
   ]
  },
  {
   "cell_type": "code",
   "execution_count": 190,
   "metadata": {
    "ExecuteTime": {
     "end_time": "2020-05-25T02:32:59.310530Z",
     "start_time": "2020-05-25T02:32:57.504565Z"
    }
   },
   "outputs": [
    {
     "name": "stdout",
     "output_type": "stream",
     "text": [
      "edge frequency stats\n",
      "\n",
      "Max: 15.0 Min: 0.0010213809069862453 Avg: 0.2884089039847738 Std: 0.632598021174131\n",
      "node frequency stats\n",
      "\n",
      "Max: 15.0 Min: 0.0004455269098253535 Avg: 1.7969611882414835 Std: 2.7373513030359105\n"
     ]
    },
    {
     "data": {
      "image/png": "[encoded data removed]",
      "text/plain": [
       "<Figure size 432x288 with 1 Axes>"
      ]
     },
     "metadata": {
      "needs_background": "light"
     },
     "output_type": "display_data"
    },
    {
     "data": {
      "image/png": "[encoded data removed]",
      "text/plain": [
       "<Figure size 432x288 with 1 Axes>"
      ]
     },
     "metadata": {
      "needs_background": "light"
     },
     "output_type": "display_data"
    }
   ],
   "source": [
    "edge_freqs = gstats.Freq(arr = word_edges, part = 'edges')\n",
    "node_freqs = gstats.Freq(arr = word_chars, part = 'nodes')"
   ]
  },
  {
   "cell_type": "code",
   "execution_count": 191,
   "metadata": {
    "ExecuteTime": {
     "end_time": "2020-05-25T02:33:07.542339Z",
     "start_time": "2020-05-25T02:33:07.509523Z"
    }
   },
   "outputs": [],
   "source": [
    "json_nodes = []\n",
    "for n in list(G.nodes):\n",
    "    json_nodes.append({\"letter\":n, \"layer\": n[1:], \"freq\":node_freqs[n], \"degree\":gstats.getDegree(n), \"indegree\":gstats.getDegree(n, di='in'), \"outdegree\":gstats.getDegree(n, di='out')})\n",
    "    \n",
    "json_edges = []\n",
    "for e in master_graph:\n",
    "    json_edges.append({\"source\":e[0], \"target\":e[1], \"freq\":edge_freqs[e]})\n",
    "    \n",
    "json_f = {\"nodes\":json_nodes,\"edges\":json_edges}"
   ]
  },
  {
   "cell_type": "code",
   "execution_count": 192,
   "metadata": {
    "ExecuteTime": {
     "end_time": "2020-05-25T02:33:07.994652Z",
     "start_time": "2020-05-25T02:33:07.853416Z"
    }
   },
   "outputs": [],
   "source": [
    "with open('word_graph.json','w') as fp:\n",
    "    json.dump(json_f,fp,indent=4)"
   ]
  },
  {
   "cell_type": "code",
   "execution_count": 195,
   "metadata": {
    "ExecuteTime": {
     "end_time": "2020-05-25T02:39:59.710390Z",
     "start_time": "2020-05-25T02:39:59.703145Z"
    }
   },
   "outputs": [
    {
     "data": {
      "text/plain": [
       "dict_values([26, 52, 49, 52, 52, 48, 50, 49, 28, 51, 47, 32, 44, 51, 46, 28, 44, 52, 47, 52, 47, 51, 49, 48, 51, 44, 50, 49, 51, 42, 48, 36, 48, 44, 45, 44, 48, 52, 49, 51, 45, 44, 38, 51, 48, 51, 49, 51, 45, 42, 42, 49, 33, 51, 41, 50, 42, 50, 47, 46, 36, 51, 45, 45, 51, 51, 49, 29, 49, 34, 45, 39, 44, 35, 47, 46, 51, 51, 45, 51, 40, 47, 42, 46, 41, 29, 50, 51, 46, 44, 45, 46, 47, 47, 43, 46, 43, 42, 19, 50, 39, 52, 47, 35, 29, 41, 45, 52, 44, 43, 51, 49, 51, 47, 41, 35, 43, 51, 31, 25, 40, 35, 42, 47, 44, 49, 49, 36, 17, 22, 45, 45, 50, 34, 44, 33, 22, 31, 23, 46, 36, 22, 34, 41, 29, 40, 23, 40, 25, 31, 30, 27, 34, 30, 33, 16, 19, 21, 9, 8, 22, 24, 10, 8, 25, 15, 28, 25, 28, 27, 38, 42, 46, 25, 32, 24, 52, 46, 51, 50, 30, 46, 32, 36, 28, 49, 41, 44, 50, 36, 33, 51, 36, 46, 26, 51, 42, 27, 44, 33, 29, 20, 33, 16, 29, 20, 41, 40, 39, 25, 27, 43, 48, 46, 51, 25, 15, 35, 47, 37, 29, 27, 41, 28, 23, 22, 21, 39, 48, 26, 23, 33, 26, 20, 19, 26, 21, 19, 46, 32, 19, 25, 49, 33, 52, 21, 44, 36, 37, 42, 49, 26, 39, 46, 29, 26, 37, 25, 28, 38, 30, 23, 35, 19, 19, 21, 22, 20, 39, 13, 18, 25, 19, 40, 16, 6, 16, 25, 11, 29, 19, 16, 31, 24, 20, 22, 10, 29, 8, 29, 11, 16, 10, 14, 23, 5, 19, 5, 10, 21, 28, 19, 28, 42, 15, 19, 18, 11, 33, 15, 26, 15, 18, 10, 13, 27, 9, 43, 19, 45, 13, 16, 22, 10, 10, 22, 20, 43, 21, 9, 17, 8, 8, 47, 47, 5, 27, 9, 38, 51, 15, 16, 19, 31, 48, 19, 27, 20, 40, 37, 48, 52, 7, 24, 36, 25, 31, 49, 12, 24, 13, 21, 11, 43, 15, 6, 17, 15, 48, 10, 11, 16, 11, 12, 10, 10, 12, 9, 7, 5, 5, 6, 15, 9, 6, 12, 25, 9, 12, 5, 12, 7, 2, 7, 6, 12, 9, 11, 6, 6, 3, 8, 34, 51, 45, 6, 6, 9, 5, 9, 2, 49, 5, 6, 2, 43, 8, 44, 52, 5, 12, 8, 10, 13, 31, 38, 34, 48, 22, 19, 21, 17, 13, 7, 10, 7, 15, 2, 3, 4, 7, 6, 22, 12, 24, 6, 6, 10, 10, 6, 2, 10, 4, 5, 3, 9, 6, 3, 5, 6, 8, 4, 5, 4, 1, 2, 16, 6, 8, 2, 24, 7, 3, 26, 3, 1, 19, 2, 3, 3, 11, 1, 18, 3, 21, 7, 1, 3, 2, 3, 4, 1, 26, 12, 21, 22, 23, 3, 21, 26, 22, 4, 1, 3, 5, 1, 3, 2, 3, 2, 5, 4, 3, 6, 6, 16, 25, 1, 2, 2, 23, 7, 3, 2, 22, 13, 17, 13, 17, 14, 2, 1, 4, 2, 2, 2, 2, 2, 1, 2, 2, 2, 2, 2, 2, 2, 1, 2, 2, 1, 2, 1, 4, 2, 2, 2, 2, 1, 2, 1])"
      ]
     },
     "execution_count": 195,
     "metadata": {},
     "output_type": "execute_result"
    }
   ],
   "source": [
    "dict(G.degree).values()"
   ]
  },
  {
   "cell_type": "markdown",
   "metadata": {},
   "source": [
    "## Some visuals\n",
    "\n",
    "Layer 0 is the blue nodes at the more compact end.  Notice how the graph gets less dense as you move up the layers.  Nodes at layer 30 are not in the image cause they shoot up way off down.  \n",
    "\n",
    "I don't expect it to look much different for slightly different english, or even latin based corpora. (at least visually, from this distance.  Node degree is a different story)\n",
    "\n",
    "If I had a powerful GPU it would be cool to take some written paragraph, and input each word, \"lighting\" up the edges for each word.  \n",
    "\n",
    "D3's force algorithm is what made it look like a spiral, which is pretty cool looking.\n",
    "![alt text](./img/vis3.png)\n",
    "\n",
    "I wish it would outline high frequency paths more, but if you zoom in you can see some higher frequency edges:\n",
    "![alt text](./img/zoom.png)\n",
    "\n",
    "How much does this graph change when new words are added to a corpus (this would give an idea of the dynamics of language)?"
   ]
  },
  {
   "cell_type": "code",
   "execution_count": null,
   "metadata": {},
   "outputs": [],
   "source": []
  }
 ],
 "metadata": {
  "kernelspec": {
   "display_name": "Python 3",
   "language": "python",
   "name": "python3"
  },
  "language_info": {
   "codemirror_mode": {
    "name": "ipython",
    "version": 3
   },
   "file_extension": ".py",
   "mimetype": "text/x-python",
   "name": "python",
   "nbconvert_exporter": "python",
   "pygments_lexer": "ipython3",
   "version": "3.7.4"
  }
 },
 "nbformat": 4,
 "nbformat_minor": 4
}
