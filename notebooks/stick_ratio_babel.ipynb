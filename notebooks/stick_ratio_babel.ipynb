{
 "cells": [
  {
   "cell_type": "markdown",
   "id": "b12277b5-43b8-4f1e-b2d6-805e2951710c",
   "metadata": {},
   "source": [
    "## thoughts\n",
    "\n",
    "- IMPORTANT: encoding in machine learning: does text semantics lose meaning through this encoding???\n",
    "    - hypothesis: yes because ordinality is arbitrary here\n",
    "- what if we add another dimension?\n",
    "- the longer the book, the more exact, the more measurement error!! "
   ]
  },
  {
   "cell_type": "code",
   "execution_count": 69,
   "id": "ddb8684d-2ea7-40ea-b9b8-9dee912d8ac5",
   "metadata": {},
   "outputs": [
    {
     "data": {
      "text/plain": [
       "0.02249053868304026"
      ]
     },
     "execution_count": 69,
     "metadata": {},
     "output_type": "execute_result"
    },
    {
     "data": {
      "image/png": "[encoded data removed]",
      "text/plain": [
       "<Figure size 720x72 with 1 Axes>"
      ]
     },
     "metadata": {
      "needs_background": "light"
     },
     "output_type": "display_data"
    }
   ],
   "source": [
    "def text_to_num(text):\n",
    "    chars = ' abcdefghijklmnopqrstuvwxyz'\n",
    "    mapping = {l:f'{1000+i}'[1:] for i, l in enumerate(chars)}\n",
    "    encoded = ''\n",
    "    for char in text:\n",
    "        encoded += mapping[char]\n",
    "        \n",
    "    return float(f'.{encoded}')\n",
    "\n",
    "def split_ratio(num):\n",
    "    length = 1 # arbitrary\n",
    "    return num/( length + num)\n",
    "\n",
    "texts = ['what are you doing step bro']\n",
    "\n",
    "plt.figure(figsize=(10,1))\n",
    "for t in texts:\n",
    "    num = text_to_num(t)\n",
    "    plt.vlines(num, ymin=0, ymax=0.1, colors='red')\n",
    "plt.xlim([0,0.1])\n",
    "plt.axis('off')\n",
    "\n",
    "    \n",
    "split_ratio(num)"
   ]
  },
  {
   "cell_type": "code",
   "execution_count": null,
   "id": "a9e5eb22-2569-4322-b27d-e4d23c628fd8",
   "metadata": {},
   "outputs": [],
   "source": []
  }
 ],
 "metadata": {
  "kernelspec": {
   "display_name": "Python 3 (ipykernel)",
   "language": "python",
   "name": "python3"
  },
  "language_info": {
   "codemirror_mode": {
    "name": "ipython",
    "version": 3
   },
   "file_extension": ".py",
   "mimetype": "text/x-python",
   "name": "python",
   "nbconvert_exporter": "python",
   "pygments_lexer": "ipython3",
   "version": "3.9.12"
  }
 },
 "nbformat": 4,
 "nbformat_minor": 5
}
