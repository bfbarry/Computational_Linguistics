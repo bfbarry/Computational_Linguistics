{
 "cells": [
  {
   "cell_type": "code",
   "execution_count": 2,
   "metadata": {
    "ExecuteTime": {
     "end_time": "2020-06-13T19:57:42.016613Z",
     "start_time": "2020-06-13T19:57:39.580274Z"
    }
   },
   "outputs": [],
   "source": [
    "%matplotlib inline\n",
    "import sys, os\n",
    "sys.path.append('../')\n",
    "\n",
    "\n",
    "import numpy as np\n",
    "from numpy.random import rand\n",
    "import matplotlib.pyplot as plt\n",
    "from mpl_toolkits.mplot3d import Axes3D\n",
    "import string\n",
    "import re\n",
    "import pandas as pd\n",
    "import time\n",
    "from IPython.display import clear_output"
   ]
  },
  {
   "cell_type": "markdown",
   "metadata": {},
   "source": [
    "# Physics inspired generative grammar\n",
    "\n",
    "Generating \"language\" using ferromagnetic ising model.\n",
    "\n",
    "Not only want to convert to binary but compare to all bases\n",
    "\n",
    "Best would be to find \"binary\" (spikes) representation of words in the brain\n",
    "\n",
    "How to represent text in binary so that the hamming distance between two sentences in a different language is near 0?\n",
    "- First would have to make them same length\n",
    "- Need to break down words into their most basic constituents.  For example it's not so obvious for two seemingly similar words.  \"Hello\" vs \"Bonjour\" directly yields no obvious similarities, but if we instead group those words by their synonyms (which can be phrases), we find \"good day\" in english.  And \"Bonjour\" when broken down becomes \"Bon Jour\" which means \"Good day\".  So breaking down suggests that words consist of the most basic elements that all languages share.  \n",
    "    - Parse through all languages and find those with the closest levenshtein distance.  These will probably be the most basic elements of language.\n",
    "   \n",
    "Categories of basic elements: \n",
    "   - Valence ('good', 'bad')\n",
    "   - Time of day ('day', 'night')\n",
    "   - Cardinal directions (tricky, 'up' and 'arriba' not similar)\n",
    "   - \n",
    "    \n",
    "    \n",
    "Other:\n",
    "\n",
    "- Arnold cat map but for binary strings: how does it change when you shift by one, two etc\n",
    "- Compare vertical, horizontal, and across time binary strings\n",
    "- How do words change as you change temperature, as well as what n gram\n",
    "    \n",
    "    \n",
    "Bottom up approach needs more fine tuning, for top down, need to look into HMM probably and learn about n grams."
   ]
  },
  {
   "cell_type": "code",
   "execution_count": 42,
   "metadata": {
    "ExecuteTime": {
     "end_time": "2020-06-13T21:38:31.056292Z",
     "start_time": "2020-06-13T21:38:30.935543Z"
    }
   },
   "outputs": [],
   "source": [
    "class Ising():\n",
    "    ''' Simulating the Ising model '''    \n",
    "    \n",
    "    def __init__(self, size = 64, temp=.4, run_time = 1001, speed = .01):\n",
    "        self.size = size\n",
    "        self.temp = temp\n",
    "        self.run_time = run_time\n",
    "        self.speed = speed #video speed; kind of maxes out at .01 but seems slower than that\n",
    "        \n",
    "    ## monte carlo moves    \n",
    "    def mcmove(self, config, N, beta):\n",
    "        ''' This is to execute the monte carlo moves using \n",
    "        Metropolis algorithm such that detailed\n",
    "        balance condition is satisified'''\n",
    "        for i in range(N):\n",
    "            for j in range(N):            \n",
    "                    a = np.random.randint(0, N)\n",
    "                    b = np.random.randint(0, N)\n",
    "                    s =  config[a, b]\n",
    "                    nb = config[(a+1)%N,b] + config[a,(b+1)%N] + config[(a-1)%N,b] + config[a,(b-1)%N]\n",
    "                    cost = 2*s*nb\n",
    "                    if cost < 0:\n",
    "                        s *= -1\n",
    "                    elif rand() < np.exp(-cost*beta):\n",
    "                        s *= -1\n",
    "                    config[a, b] = s\n",
    "        return config\n",
    "    \n",
    "    def simulate(self, frame_mode = False, video_mode = False):   \n",
    "        ''' This module simulates the Ising model'''\n",
    "        N, temp = self.size, self.temp # Initialse the lattice\n",
    "        config = 2*np.random.randint(2, size=(N,N))-1\n",
    "        f = plt.figure(figsize=(15, 15), dpi=80);    \n",
    "        \n",
    "        msrmnt = self.run_time\n",
    "        raster = []\n",
    "        for i in range(msrmnt):\n",
    "            config = self.mcmove(config, N, 1.0/temp)\n",
    "            raster.append(config.flatten())\n",
    "            if frame_mode == True:\n",
    "                if i == 0:\n",
    "                    self.configPlot(f, config, 0, N, 1);\n",
    "                elif i == 1:       \n",
    "                    self.configPlot(f, config, i, N, 2);\n",
    "                elif i == int(.004*msrmnt):       \n",
    "                    self.configPlot(f, config, i, N, 3);\n",
    "                elif i == int(.032*msrmnt):      \n",
    "                    self.configPlot(f, config, i, N, 4);\n",
    "                elif i == int(.1*msrmnt):     \n",
    "                    self.configPlot(f, config, i, N, 5);\n",
    "                elif i == msrmnt -1:    \n",
    "                    self.configPlot(f, config, i, N, 6);\n",
    "                    \n",
    "            elif video_mode == True:\n",
    "                plt.figure()\n",
    "                self.configPlot(f, config, i, N, 1)\n",
    "                plt.show()\n",
    "                time.sleep(self.speed)\n",
    "                clear_output(wait=True)\n",
    "            \n",
    "        plt.show() \n",
    "        \n",
    "        raster_df = pd.DataFrame(data = np.array(raster))\n",
    "        raster_df[raster_df==-1]=0\n",
    "        return raster_df\n",
    "\n",
    "    def configPlot(self, f, config, i, N, n_ = None, subplots = True):\n",
    "        ''' This modules plts the configuration once passed to it along with time etc '''\n",
    "        X, Y = np.meshgrid(range(N), range(N))\n",
    "        if subplots == True:\n",
    "            sp =  f.add_subplot(3, 3, n_ )  \n",
    "            plt.setp(sp.get_yticklabels(), visible=False)\n",
    "            plt.setp(sp.get_xticklabels(), visible=False)      \n",
    "        plt.pcolormesh(X, Y, config, cmap=plt.cm.RdBu);\n",
    "        plt.title('Time=%d'%i); plt.axis('tight')    \n",
    "    #plt.show()"
   ]
  },
  {
   "cell_type": "code",
   "execution_count": 56,
   "metadata": {
    "ExecuteTime": {
     "end_time": "2020-06-13T21:43:56.282057Z",
     "start_time": "2020-06-13T21:43:50.250010Z"
    }
   },
   "outputs": [
    {
     "data": {
      "image/png": "[encoded data removed]",
      "text/plain": [
       "<Figure size 1200x1200 with 6 Axes>"
      ]
     },
     "metadata": {},
     "output_type": "display_data"
    },
    {
     "data": {
      "text/html": [
       "<div>\n",
       "<style scoped>\n",
       "    .dataframe tbody tr th:only-of-type {\n",
       "        vertical-align: middle;\n",
       "    }\n",
       "\n",
       "    .dataframe tbody tr th {\n",
       "        vertical-align: top;\n",
       "    }\n",
       "\n",
       "    .dataframe thead th {\n",
       "        text-align: right;\n",
       "    }\n",
       "</style>\n",
       "<table border=\"1\" class=\"dataframe\">\n",
       "  <thead>\n",
       "    <tr style=\"text-align: right;\">\n",
       "      <th></th>\n",
       "      <th>0</th>\n",
       "      <th>1</th>\n",
       "      <th>2</th>\n",
       "      <th>3</th>\n",
       "      <th>4</th>\n",
       "      <th>5</th>\n",
       "      <th>6</th>\n",
       "      <th>7</th>\n",
       "      <th>8</th>\n",
       "      <th>9</th>\n",
       "      <th>...</th>\n",
       "      <th>39</th>\n",
       "      <th>40</th>\n",
       "      <th>41</th>\n",
       "      <th>42</th>\n",
       "      <th>43</th>\n",
       "      <th>44</th>\n",
       "      <th>45</th>\n",
       "      <th>46</th>\n",
       "      <th>47</th>\n",
       "      <th>48</th>\n",
       "    </tr>\n",
       "  </thead>\n",
       "  <tbody>\n",
       "    <tr>\n",
       "      <td>0</td>\n",
       "      <td>0</td>\n",
       "      <td>0</td>\n",
       "      <td>0</td>\n",
       "      <td>1</td>\n",
       "      <td>1</td>\n",
       "      <td>1</td>\n",
       "      <td>0</td>\n",
       "      <td>0</td>\n",
       "      <td>0</td>\n",
       "      <td>0</td>\n",
       "      <td>...</td>\n",
       "      <td>0</td>\n",
       "      <td>0</td>\n",
       "      <td>1</td>\n",
       "      <td>1</td>\n",
       "      <td>0</td>\n",
       "      <td>1</td>\n",
       "      <td>1</td>\n",
       "      <td>1</td>\n",
       "      <td>1</td>\n",
       "      <td>1</td>\n",
       "    </tr>\n",
       "    <tr>\n",
       "      <td>1</td>\n",
       "      <td>0</td>\n",
       "      <td>0</td>\n",
       "      <td>0</td>\n",
       "      <td>0</td>\n",
       "      <td>1</td>\n",
       "      <td>0</td>\n",
       "      <td>0</td>\n",
       "      <td>0</td>\n",
       "      <td>0</td>\n",
       "      <td>0</td>\n",
       "      <td>...</td>\n",
       "      <td>0</td>\n",
       "      <td>0</td>\n",
       "      <td>1</td>\n",
       "      <td>0</td>\n",
       "      <td>1</td>\n",
       "      <td>0</td>\n",
       "      <td>1</td>\n",
       "      <td>1</td>\n",
       "      <td>1</td>\n",
       "      <td>0</td>\n",
       "    </tr>\n",
       "    <tr>\n",
       "      <td>2</td>\n",
       "      <td>0</td>\n",
       "      <td>0</td>\n",
       "      <td>0</td>\n",
       "      <td>1</td>\n",
       "      <td>1</td>\n",
       "      <td>1</td>\n",
       "      <td>0</td>\n",
       "      <td>0</td>\n",
       "      <td>0</td>\n",
       "      <td>0</td>\n",
       "      <td>...</td>\n",
       "      <td>0</td>\n",
       "      <td>0</td>\n",
       "      <td>1</td>\n",
       "      <td>0</td>\n",
       "      <td>0</td>\n",
       "      <td>0</td>\n",
       "      <td>0</td>\n",
       "      <td>1</td>\n",
       "      <td>1</td>\n",
       "      <td>0</td>\n",
       "    </tr>\n",
       "    <tr>\n",
       "      <td>3</td>\n",
       "      <td>0</td>\n",
       "      <td>0</td>\n",
       "      <td>0</td>\n",
       "      <td>1</td>\n",
       "      <td>1</td>\n",
       "      <td>1</td>\n",
       "      <td>0</td>\n",
       "      <td>0</td>\n",
       "      <td>0</td>\n",
       "      <td>0</td>\n",
       "      <td>...</td>\n",
       "      <td>0</td>\n",
       "      <td>0</td>\n",
       "      <td>1</td>\n",
       "      <td>0</td>\n",
       "      <td>0</td>\n",
       "      <td>0</td>\n",
       "      <td>1</td>\n",
       "      <td>1</td>\n",
       "      <td>1</td>\n",
       "      <td>0</td>\n",
       "    </tr>\n",
       "    <tr>\n",
       "      <td>4</td>\n",
       "      <td>0</td>\n",
       "      <td>0</td>\n",
       "      <td>0</td>\n",
       "      <td>1</td>\n",
       "      <td>1</td>\n",
       "      <td>1</td>\n",
       "      <td>0</td>\n",
       "      <td>0</td>\n",
       "      <td>0</td>\n",
       "      <td>0</td>\n",
       "      <td>...</td>\n",
       "      <td>1</td>\n",
       "      <td>1</td>\n",
       "      <td>1</td>\n",
       "      <td>1</td>\n",
       "      <td>1</td>\n",
       "      <td>1</td>\n",
       "      <td>1</td>\n",
       "      <td>1</td>\n",
       "      <td>1</td>\n",
       "      <td>1</td>\n",
       "    </tr>\n",
       "    <tr>\n",
       "      <td>...</td>\n",
       "      <td>...</td>\n",
       "      <td>...</td>\n",
       "      <td>...</td>\n",
       "      <td>...</td>\n",
       "      <td>...</td>\n",
       "      <td>...</td>\n",
       "      <td>...</td>\n",
       "      <td>...</td>\n",
       "      <td>...</td>\n",
       "      <td>...</td>\n",
       "      <td>...</td>\n",
       "      <td>...</td>\n",
       "      <td>...</td>\n",
       "      <td>...</td>\n",
       "      <td>...</td>\n",
       "      <td>...</td>\n",
       "      <td>...</td>\n",
       "      <td>...</td>\n",
       "      <td>...</td>\n",
       "      <td>...</td>\n",
       "      <td>...</td>\n",
       "    </tr>\n",
       "    <tr>\n",
       "      <td>996</td>\n",
       "      <td>0</td>\n",
       "      <td>1</td>\n",
       "      <td>0</td>\n",
       "      <td>0</td>\n",
       "      <td>0</td>\n",
       "      <td>0</td>\n",
       "      <td>0</td>\n",
       "      <td>0</td>\n",
       "      <td>0</td>\n",
       "      <td>0</td>\n",
       "      <td>...</td>\n",
       "      <td>0</td>\n",
       "      <td>0</td>\n",
       "      <td>0</td>\n",
       "      <td>1</td>\n",
       "      <td>0</td>\n",
       "      <td>0</td>\n",
       "      <td>0</td>\n",
       "      <td>1</td>\n",
       "      <td>1</td>\n",
       "      <td>0</td>\n",
       "    </tr>\n",
       "    <tr>\n",
       "      <td>997</td>\n",
       "      <td>0</td>\n",
       "      <td>0</td>\n",
       "      <td>0</td>\n",
       "      <td>0</td>\n",
       "      <td>0</td>\n",
       "      <td>0</td>\n",
       "      <td>0</td>\n",
       "      <td>0</td>\n",
       "      <td>0</td>\n",
       "      <td>0</td>\n",
       "      <td>...</td>\n",
       "      <td>0</td>\n",
       "      <td>0</td>\n",
       "      <td>0</td>\n",
       "      <td>1</td>\n",
       "      <td>0</td>\n",
       "      <td>0</td>\n",
       "      <td>0</td>\n",
       "      <td>0</td>\n",
       "      <td>0</td>\n",
       "      <td>0</td>\n",
       "    </tr>\n",
       "    <tr>\n",
       "      <td>998</td>\n",
       "      <td>0</td>\n",
       "      <td>0</td>\n",
       "      <td>1</td>\n",
       "      <td>0</td>\n",
       "      <td>0</td>\n",
       "      <td>0</td>\n",
       "      <td>0</td>\n",
       "      <td>0</td>\n",
       "      <td>0</td>\n",
       "      <td>0</td>\n",
       "      <td>...</td>\n",
       "      <td>0</td>\n",
       "      <td>0</td>\n",
       "      <td>0</td>\n",
       "      <td>1</td>\n",
       "      <td>0</td>\n",
       "      <td>0</td>\n",
       "      <td>0</td>\n",
       "      <td>0</td>\n",
       "      <td>0</td>\n",
       "      <td>0</td>\n",
       "    </tr>\n",
       "    <tr>\n",
       "      <td>999</td>\n",
       "      <td>0</td>\n",
       "      <td>0</td>\n",
       "      <td>0</td>\n",
       "      <td>0</td>\n",
       "      <td>0</td>\n",
       "      <td>0</td>\n",
       "      <td>0</td>\n",
       "      <td>0</td>\n",
       "      <td>0</td>\n",
       "      <td>0</td>\n",
       "      <td>...</td>\n",
       "      <td>0</td>\n",
       "      <td>0</td>\n",
       "      <td>0</td>\n",
       "      <td>1</td>\n",
       "      <td>0</td>\n",
       "      <td>0</td>\n",
       "      <td>0</td>\n",
       "      <td>0</td>\n",
       "      <td>0</td>\n",
       "      <td>0</td>\n",
       "    </tr>\n",
       "    <tr>\n",
       "      <td>1000</td>\n",
       "      <td>0</td>\n",
       "      <td>0</td>\n",
       "      <td>0</td>\n",
       "      <td>0</td>\n",
       "      <td>0</td>\n",
       "      <td>0</td>\n",
       "      <td>0</td>\n",
       "      <td>0</td>\n",
       "      <td>0</td>\n",
       "      <td>0</td>\n",
       "      <td>...</td>\n",
       "      <td>0</td>\n",
       "      <td>1</td>\n",
       "      <td>0</td>\n",
       "      <td>1</td>\n",
       "      <td>0</td>\n",
       "      <td>0</td>\n",
       "      <td>1</td>\n",
       "      <td>0</td>\n",
       "      <td>0</td>\n",
       "      <td>1</td>\n",
       "    </tr>\n",
       "  </tbody>\n",
       "</table>\n",
       "<p>1001 rows × 49 columns</p>\n",
       "</div>"
      ],
      "text/plain": [
       "      0   1   2   3   4   5   6   7   8   9   ...  39  40  41  42  43  44  45  \\\n",
       "0      0   0   0   1   1   1   0   0   0   0  ...   0   0   1   1   0   1   1   \n",
       "1      0   0   0   0   1   0   0   0   0   0  ...   0   0   1   0   1   0   1   \n",
       "2      0   0   0   1   1   1   0   0   0   0  ...   0   0   1   0   0   0   0   \n",
       "3      0   0   0   1   1   1   0   0   0   0  ...   0   0   1   0   0   0   1   \n",
       "4      0   0   0   1   1   1   0   0   0   0  ...   1   1   1   1   1   1   1   \n",
       "...   ..  ..  ..  ..  ..  ..  ..  ..  ..  ..  ...  ..  ..  ..  ..  ..  ..  ..   \n",
       "996    0   1   0   0   0   0   0   0   0   0  ...   0   0   0   1   0   0   0   \n",
       "997    0   0   0   0   0   0   0   0   0   0  ...   0   0   0   1   0   0   0   \n",
       "998    0   0   1   0   0   0   0   0   0   0  ...   0   0   0   1   0   0   0   \n",
       "999    0   0   0   0   0   0   0   0   0   0  ...   0   0   0   1   0   0   0   \n",
       "1000   0   0   0   0   0   0   0   0   0   0  ...   0   1   0   1   0   0   1   \n",
       "\n",
       "      46  47  48  \n",
       "0      1   1   1  \n",
       "1      1   1   0  \n",
       "2      1   1   0  \n",
       "3      1   1   0  \n",
       "4      1   1   1  \n",
       "...   ..  ..  ..  \n",
       "996    1   1   0  \n",
       "997    0   0   0  \n",
       "998    0   0   0  \n",
       "999    0   0   0  \n",
       "1000   0   0   1  \n",
       "\n",
       "[1001 rows x 49 columns]"
      ]
     },
     "execution_count": 56,
     "metadata": {},
     "output_type": "execute_result"
    }
   ],
   "source": [
    "rm = Ising(size = 7, temp = 2.26918531421)\n",
    "test = rm.simulate(frame_mode = True)\n",
    "test"
   ]
  },
  {
   "cell_type": "code",
   "execution_count": 122,
   "metadata": {
    "ExecuteTime": {
     "end_time": "2020-06-14T21:14:15.101837Z",
     "start_time": "2020-06-14T21:14:14.969766Z"
    }
   },
   "outputs": [],
   "source": [
    "tape = np.array(test)\n",
    "stop_ind = list(np.arange(7,50, 7))\n",
    "\n",
    "all_bstr = []\n",
    "for f in range(len(tape)): #1001 frames long\n",
    "    sentence = tape[f] #49 bits long\n",
    "    prev_ind = 0\n",
    "    for i in stop_ind:\n",
    "        bin_str = sentence[prev_ind:i]\n",
    "        bin_str = [str(n) for n in bin_str]\n",
    "        prev_ind = i\n",
    "        all_bstr.append(\"0\" + ''.join(bin_str))  "
   ]
  },
  {
   "cell_type": "code",
   "execution_count": 183,
   "metadata": {
    "ExecuteTime": {
     "end_time": "2020-06-14T22:33:42.397170Z",
     "start_time": "2020-06-14T22:33:42.356095Z"
    }
   },
   "outputs": [],
   "source": [
    "all_nums = [int(s,2) for s in all_bstr]\n",
    "\n",
    "all_str = [chr(int(s,2)) for s in all_bstr]\n",
    "#all_str = [''.join(filter(lambda x: x in string.printable, s)) for s in all_str]\n",
    "all_str = [re.sub(r\"[^A-Za-z]+\", '', s) for s in all_str]"
   ]
  },
  {
   "cell_type": "code",
   "execution_count": 185,
   "metadata": {
    "ExecuteTime": {
     "end_time": "2020-06-14T22:33:45.849429Z",
     "start_time": "2020-06-14T22:33:45.827904Z"
    }
   },
   "outputs": [
    {
     "data": {
      "text/plain": [
       "'AAawoodaODFGGGGGGGcfgfBAqqbgqqCoooeggmAaAaqaIIpiCBppTxqpxxyyxpXppAaxqDBgacpQqaPPaAMyPAyxpyAADAAEEAEePPoMPcpaaacaSivRDCAQxXlhxXyzsxgAACapPpXaxFBphaaasriMLOGpaDAAGEDBApppDDhAAAAAhpLpAAAAAALhpDGepgcCwwcoscacoGssGoodOgcwSwsookkwwyssookgzoyxzdxxlwIxtoowoogOwwWwwGwwwgswwqsssyywxxwwWGSgwwwcwoswwycxokocgyoowowwwgwssoWwowssosxxzwwwoWwkowwswoOyooOWnowwwqwwvwgtOwtOOyggooqqgyyxyyqpqswqdvouyyyoyOggwwwwwwOooyoayAssooomcIwgooOwOoowowwwowoooooOogwwwOtwgoouuauWqswsGcgwgOwxwoooggwwwwwwssswywcSwwwwsswsxsqqsAsxyyqAyyYqqxGgcfggCpGcaAAQqQqQqyxXHXxOxxxxHxppyayiAapFI'"
      ]
     },
     "execution_count": 185,
     "metadata": {},
     "output_type": "execute_result"
    }
   ],
   "source": [
    "''.join(all_str)"
   ]
  },
  {
   "cell_type": "markdown",
   "metadata": {},
   "source": [
    "This is the language of the gods"
   ]
  },
  {
   "cell_type": "code",
   "execution_count": 133,
   "metadata": {
    "ExecuteTime": {
     "end_time": "2020-06-14T21:26:05.416275Z",
     "start_time": "2020-06-14T21:26:05.397541Z"
    }
   },
   "outputs": [],
   "source": [
    "def bin_to_base(binary, base):\n",
    "    return int(str(binary),base)\n",
    "\n",
    "x = ['{0:08b}'.format(i) for i in range(100)]\n",
    "y = list(range(2, 37)) \n",
    "z = [bin_to_base() ]"
   ]
  },
  {
   "cell_type": "markdown",
   "metadata": {},
   "source": [
    "Now converting just to numbers to get a different sense of distribution, why is there a jump at 4700?  And how to explain the distribution of numbers?"
   ]
  },
  {
   "cell_type": "code",
   "execution_count": 121,
   "metadata": {
    "ExecuteTime": {
     "end_time": "2020-06-14T21:13:13.304130Z",
     "start_time": "2020-06-14T21:13:12.473514Z"
    }
   },
   "outputs": [
    {
     "data": {
      "image/png": "[encoded data removed]",
      "text/plain": [
       "<Figure size 432x288 with 1 Axes>"
      ]
     },
     "metadata": {
      "needs_background": "light"
     },
     "output_type": "display_data"
    },
    {
     "data": {
      "image/png": "[encoded data removed]",
      "text/plain": [
       "<Figure size 432x288 with 1 Axes>"
      ]
     },
     "metadata": {
      "needs_background": "light"
     },
     "output_type": "display_data"
    }
   ],
   "source": [
    "plt.figure()\n",
    "plt.scatter(range(len(all_nums)), all_nums); plt.show()\n",
    "plt.figure()\n",
    "plt.hist(all_nums, 40); plt.show()"
   ]
  },
  {
   "cell_type": "code",
   "execution_count": 18,
   "metadata": {
    "ExecuteTime": {
     "end_time": "2020-06-13T20:12:27.518221Z",
     "start_time": "2020-06-13T20:12:27.507456Z"
    }
   },
   "outputs": [],
   "source": [
    "def words_to_binary(word):\n",
    "    \"\"\"Converts hex representation into binary\"\"\"\n",
    "    return ' '.join(format(ord(x), 'b') for x in word)"
   ]
  },
  {
   "cell_type": "code",
   "execution_count": 30,
   "metadata": {
    "ExecuteTime": {
     "end_time": "2020-06-13T20:21:42.224419Z",
     "start_time": "2020-06-13T20:21:42.207296Z"
    }
   },
   "outputs": [],
   "source": [
    "def hamming_distance(string1, string2):\n",
    "    dist_counter = 0\n",
    "    for n in range(len(string1)):\n",
    "        if string1[n] != string2[n]:\n",
    "            dist_counter += 1\n",
    "    return dist_counter\n",
    "\n",
    "def levenshtein(seq1, seq2):\n",
    "    # from https://stackabuse.com/levenshtein-distance-and-text-similarity-in-python/#:~:text=The%20Levenshtein%20Distance,-This%20method%20was&text=The%20distance%20value%20describes%20the,strings%20with%20an%20unequal%20length.\n",
    "    size_x = len(seq1) + 1\n",
    "    size_y = len(seq2) + 1\n",
    "    matrix = np.zeros ((size_x, size_y))\n",
    "    for x in range(size_x):\n",
    "        matrix [x, 0] = x\n",
    "    for y in range(size_y):\n",
    "        matrix [0, y] = y\n",
    "\n",
    "    for x in range(1, size_x):\n",
    "        for y in range(1, size_y):\n",
    "            if seq1[x-1] == seq2[y-1]:\n",
    "                matrix [x,y] = min(\n",
    "                    matrix[x-1, y] + 1,\n",
    "                    matrix[x-1, y-1],\n",
    "                    matrix[x, y-1] + 1\n",
    "                )\n",
    "            else:\n",
    "                matrix [x,y] = min(\n",
    "                    matrix[x-1,y] + 1,\n",
    "                    matrix[x-1,y-1] + 1,\n",
    "                    matrix[x,y-1] + 1\n",
    "                )\n",
    "    #print (matrix)\n",
    "    return (matrix[size_x - 1, size_y - 1])"
   ]
  },
  {
   "cell_type": "code",
   "execution_count": 15,
   "metadata": {
    "ExecuteTime": {
     "end_time": "2020-06-13T20:09:04.879460Z",
     "start_time": "2020-06-13T20:09:04.867119Z"
    }
   },
   "outputs": [
    {
     "data": {
      "text/plain": [
       "'1101000 1100101 1101100 1101100 1101111 100000 1110111 1101111 1110010 1101100 1100100'"
      ]
     },
     "execution_count": 15,
     "metadata": {},
     "output_type": "execute_result"
    }
   ],
   "source": [
    "s = words_to_binary(\"hello world\")\n",
    "s"
   ]
  },
  {
   "cell_type": "code",
   "execution_count": 19,
   "metadata": {
    "ExecuteTime": {
     "end_time": "2020-06-13T20:13:29.699529Z",
     "start_time": "2020-06-13T20:13:29.690212Z"
    }
   },
   "outputs": [
    {
     "name": "stdout",
     "output_type": "stream",
     "text": [
      "1101000 1100101 1101100 1101100 1101111\n",
      "\n",
      "1100010 1101111 1101110 1101010 1101111 1110101 1110010\n"
     ]
    }
   ],
   "source": [
    "print(words_to_binary(\"hello\"))\n",
    "print()\n",
    "print(words_to_binary(\"bonjour\"))"
   ]
  },
  {
   "cell_type": "code",
   "execution_count": 39,
   "metadata": {
    "ExecuteTime": {
     "end_time": "2020-06-13T21:32:46.997271Z",
     "start_time": "2020-06-13T21:32:46.980471Z"
    }
   },
   "outputs": [
    {
     "data": {
      "text/plain": [
       "21.0"
      ]
     },
     "execution_count": 39,
     "metadata": {},
     "output_type": "execute_result"
    }
   ],
   "source": [
    "levenshtein(words_to_binary(\"hello\"),words_to_binary(\"bonjour\"))"
   ]
  }
 ],
 "metadata": {
  "kernelspec": {
   "display_name": "Python 3",
   "language": "python",
   "name": "python3"
  },
  "language_info": {
   "codemirror_mode": {
    "name": "ipython",
    "version": 3
   },
   "file_extension": ".py",
   "mimetype": "text/x-python",
   "name": "python",
   "nbconvert_exporter": "python",
   "pygments_lexer": "ipython3",
   "version": "3.7.4"
  }
 },
 "nbformat": 4,
 "nbformat_minor": 4
}
