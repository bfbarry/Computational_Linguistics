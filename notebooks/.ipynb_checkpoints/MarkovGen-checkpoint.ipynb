{
 "cells": [
  {
   "cell_type": "code",
   "execution_count": 3,
   "metadata": {
    "execution": {
     "iopub.execute_input": "2021-04-09T00:21:51.199472Z",
     "iopub.status.busy": "2021-04-09T00:21:51.199079Z",
     "iopub.status.idle": "2021-04-09T00:21:51.437619Z",
     "shell.execute_reply": "2021-04-09T00:21:51.433752Z",
     "shell.execute_reply.started": "2021-04-09T00:21:51.199432Z"
    }
   },
   "outputs": [
    {
     "name": "stdout",
     "output_type": "stream",
     "text": [
      "The autoreload extension is already loaded. To reload it, use:\n",
      "  %reload_ext autoreload\n"
     ]
    }
   ],
   "source": [
    "%load_ext autoreload\n",
    "%autoreload 2\n",
    "\n",
    "import sys, os\n",
    "sys.path.append('../')\n",
    "\n",
    "from utils.cleaning import int2rom\n",
    "from utils.sample_data import load_odyssey\n",
    "from nltk.corpus import wordnet, words\n",
    "import nltk\n",
    "import re\n",
    "import json\n",
    "import numpy as np\n",
    "import pandas as pd\n",
    "import itertools as its\n",
    "from  itertools import permutations as PNR\n",
    "\n",
    "import matplotlib.pyplot as plt\n",
    "from mpl_toolkits.mplot3d import Axes3D"
   ]
  },
  {
   "cell_type": "markdown",
   "metadata": {},
   "source": [
    "# Markov chains\n",
    "\n",
    "How does graph connectivity change as a function of probability threshold?"
   ]
  },
  {
   "cell_type": "code",
   "execution_count": 45,
   "metadata": {
    "execution": {
     "iopub.execute_input": "2021-04-09T01:28:48.717163Z",
     "iopub.status.busy": "2021-04-09T01:28:48.716028Z",
     "iopub.status.idle": "2021-04-09T01:28:50.373220Z",
     "shell.execute_reply": "2021-04-09T01:28:50.371192Z",
     "shell.execute_reply.started": "2021-04-09T01:28:48.717093Z"
    }
   },
   "outputs": [],
   "source": [
    "text_words,text_sents=load_odyssey()\n",
    "unique = set(text)\n",
    "start_tokens, end_tokens = set(), set()\n",
    "for s in text_sents:\n",
    "    w = nltk.word_tokenize(s)\n",
    "    start_tokens.add(w[0])\n",
    "    end_tokens.add(w[len(w)-1])"
   ]
  },
  {
   "cell_type": "code",
   "execution_count": 5,
   "metadata": {
    "execution": {
     "iopub.execute_input": "2021-04-09T00:22:06.298116Z",
     "iopub.status.busy": "2021-04-09T00:22:06.297306Z",
     "iopub.status.idle": "2021-04-09T00:22:06.416843Z",
     "shell.execute_reply": "2021-04-09T00:22:06.412659Z",
     "shell.execute_reply.started": "2021-04-09T00:22:06.298076Z"
    }
   },
   "outputs": [],
   "source": [
    "def transition_mat(text):\n",
    "    '''Where text is word_tokenized version of text'''\n",
    "    unique = set(text)\n",
    "    un_ind = {} #indicies for each unique word\n",
    "    for uw in unique:\n",
    "        un_ind[uw] = [i for i, x in enumerate(text) if x == uw] #for some reason having indices is faster?\n",
    "\n",
    "    trans = pd.DataFrame(0, columns = unique, index = unique)\n",
    "    for (w1,w2) in PNR(unique,2): #avoid double loop\n",
    "        for i in un_ind[w1]:\n",
    "            try: \n",
    "                if text[i+1] == w2: trans.loc[w1][w2] += 1\n",
    "            except: pass\n",
    "#         for i, w in enumerate(text):\n",
    "#             if w == w1 and text[i+1] == w2:\n",
    "#                 trans.loc[w1][w2] += 1\n",
    "    return trans.div(trans.sum(axis=1),axis=0)       "
   ]
  },
  {
   "cell_type": "code",
   "execution_count": 6,
   "metadata": {
    "execution": {
     "iopub.execute_input": "2021-04-09T00:22:07.921280Z",
     "iopub.status.busy": "2021-04-09T00:22:07.920671Z",
     "iopub.status.idle": "2021-04-09T00:29:14.377904Z",
     "shell.execute_reply": "2021-04-09T00:29:14.374780Z",
     "shell.execute_reply.started": "2021-04-09T00:22:07.921195Z"
    }
   },
   "outputs": [],
   "source": [
    "trans = transition_mat(text_words)"
   ]
  },
  {
   "cell_type": "code",
   "execution_count": 46,
   "metadata": {
    "execution": {
     "iopub.execute_input": "2021-04-09T01:30:10.423441Z",
     "iopub.status.busy": "2021-04-09T01:30:10.422904Z",
     "iopub.status.idle": "2021-04-09T01:30:10.558063Z",
     "shell.execute_reply": "2021-04-09T01:30:10.556798Z",
     "shell.execute_reply.started": "2021-04-09T01:30:10.423378Z"
    }
   },
   "outputs": [
    {
     "data": {
      "text/plain": [
       "0.0"
      ]
     },
     "execution_count": 46,
     "metadata": {},
     "output_type": "execute_result"
    }
   ],
   "source": [
    "trans.loc['the','.']"
   ]
  },
  {
   "cell_type": "code",
   "execution_count": 53,
   "metadata": {
    "execution": {
     "iopub.execute_input": "2021-04-09T01:38:12.651859Z",
     "iopub.status.busy": "2021-04-09T01:38:12.651346Z",
     "iopub.status.idle": "2021-04-09T01:38:12.784337Z",
     "shell.execute_reply": "2021-04-09T01:38:12.782481Z",
     "shell.execute_reply.started": "2021-04-09T01:38:12.651790Z"
    }
   },
   "outputs": [],
   "source": [
    "# from https://www.analyticsvidhya.com/blog/2021/04/generating-fantasy-titles-with-a-markov-chain/\n",
    "def markov_sentence(trans, start_tokens, end_tokens):\n",
    "    start_tokens = list(start_tokens)\n",
    "    \n",
    "    sent = ''\n",
    "    word = start_tokens[np.random.randint(len(start_tokens))]\n",
    "    cols = list(trans.columns)\n",
    "    col_i = 0\n",
    "    rand = np.random.rand()\n",
    "    while word not in end_tokens:\n",
    "        if col_i >= len(cols):\n",
    "            print(col_i)\n",
    "        w2 = cols[col_i]\n",
    "        p = trans.loc[word,w2]\n",
    "        if rand <= p:\n",
    "            sent += word + ' '\n",
    "            word = w2\n",
    "            col_i = 0\n",
    "            rand = np.random.rand()\n",
    "        else:\n",
    "            rand -= p\n",
    "            col_i += 1\n",
    "    return sent"
   ]
  },
  {
   "cell_type": "code",
   "execution_count": 57,
   "metadata": {
    "execution": {
     "iopub.execute_input": "2021-04-09T01:38:39.687169Z",
     "iopub.status.busy": "2021-04-09T01:38:39.686683Z",
     "iopub.status.idle": "2021-04-09T01:38:43.376507Z",
     "shell.execute_reply": "2021-04-09T01:38:43.375129Z",
     "shell.execute_reply.started": "2021-04-09T01:38:39.687109Z"
    }
   },
   "outputs": [
    {
     "data": {
      "text/plain": [
       "'kings , as he had counselled evil deeds under an upper woman , tell calypso trembled all customary presents which i now , and of mentor , and the house they at troy , but is as a dragon , telemachus , and when the ashes , and antinous had been brought him : i never clear sky on the finest children '"
      ]
     },
     "execution_count": 57,
     "metadata": {},
     "output_type": "execute_result"
    }
   ],
   "source": [
    "markov_sentence(trans,start_tokens,end_tokens)"
   ]
  },
  {
   "cell_type": "code",
   "execution_count": null,
   "metadata": {},
   "outputs": [],
   "source": [
    "x = pd.DataFrame(1, columns = ['a','b','c'], index= ['e','f','g'])\n",
    "x.loc['e']['b'] =2\n",
    "x=x.div(x.sum(axis=1),axis=0)\n",
    "x"
   ]
  }
 ],
 "metadata": {
  "kernelspec": {
   "display_name": "Python 3",
   "language": "python",
   "name": "python3"
  },
  "language_info": {
   "codemirror_mode": {
    "name": "ipython",
    "version": 3
   },
   "file_extension": ".py",
   "mimetype": "text/x-python",
   "name": "python",
   "nbconvert_exporter": "python",
   "pygments_lexer": "ipython3",
   "version": "3.7.4"
  }
 },
 "nbformat": 4,
 "nbformat_minor": 4
}
