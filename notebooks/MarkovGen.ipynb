{
 "cells": [
  {
   "cell_type": "code",
   "execution_count": null,
   "metadata": {},
   "outputs": [],
   "source": [
    "%load_ext autoreload\n",
    "%autoreload 2\n",
    "\n",
    "import sys, os\n",
    "sys.path.append('../')\n",
    "\n",
    "from utils.cleaning import int2rom\n",
    "from utils.sample_data import load_odyssey\n",
    "from nltk.corpus import wordnet, words\n",
    "import nltk\n",
    "import re\n",
    "import json\n",
    "import numpy as np\n",
    "import pandas as pd\n",
    "import itertools as its\n",
    "from  itertools import permutations as PNR\n",
    "\n",
    "import matplotlib.pyplot as plt"
   ]
  },
  {
   "cell_type": "markdown",
   "metadata": {},
   "source": [
    "# Markov chains\n",
    "\n",
    "How does graph connectivity change as a function of probability threshold?\n",
    "\n",
    "Relationship between rank of a word and its connectivity?"
   ]
  },
  {
   "cell_type": "code",
   "execution_count": 3,
   "metadata": {
    "execution": {
     "iopub.execute_input": "2021-04-09T02:52:06.341461Z",
     "iopub.status.busy": "2021-04-09T02:52:06.340305Z",
     "iopub.status.idle": "2021-04-09T02:52:09.610257Z",
     "shell.execute_reply": "2021-04-09T02:52:09.608732Z",
     "shell.execute_reply.started": "2021-04-09T02:52:06.341372Z"
    }
   },
   "outputs": [],
   "source": [
    "text_words,text_sents=load_odyssey()\n",
    "start_tokens, end_tokens = set(), set()\n",
    "for s in text_sents:\n",
    "    w = nltk.word_tokenize(s)\n",
    "    start_tokens.add(w[0])\n",
    "    end_tokens.add(w[len(w)-1])"
   ]
  },
  {
   "cell_type": "code",
   "execution_count": 4,
   "metadata": {
    "execution": {
     "iopub.execute_input": "2021-04-09T02:52:09.655137Z",
     "iopub.status.busy": "2021-04-09T02:52:09.612062Z",
     "iopub.status.idle": "2021-04-09T02:52:09.772148Z",
     "shell.execute_reply": "2021-04-09T02:52:09.770447Z",
     "shell.execute_reply.started": "2021-04-09T02:52:09.652862Z"
    }
   },
   "outputs": [],
   "source": [
    "def transition_mat(text):\n",
    "    '''Where text is word_tokenized version of text'''\n",
    "    unique = set(text)\n",
    "    un_ind = {} #indicies for each unique word\n",
    "    for uw in unique:\n",
    "        un_ind[uw] = [i for i, x in enumerate(text) if x == uw] #for some reason having indices is faster?\n",
    "\n",
    "    trans = pd.DataFrame(0, columns = unique, index = unique)\n",
    "    for (w1,w2) in PNR(unique,2): #avoid double loop\n",
    "        for i in un_ind[w1]:\n",
    "            try: \n",
    "                if text[i+1] == w2: trans.loc[w1][w2] += 1\n",
    "            except: pass\n",
    "#         for i, w in enumerate(text):\n",
    "#             if w == w1 and text[i+1] == w2:\n",
    "#                 trans.loc[w1][w2] += 1\n",
    "    return trans.div(trans.sum(axis=1),axis=0)       "
   ]
  },
  {
   "cell_type": "code",
   "execution_count": 5,
   "metadata": {
    "execution": {
     "iopub.execute_input": "2021-04-09T02:52:09.819208Z",
     "iopub.status.busy": "2021-04-09T02:52:09.818100Z",
     "iopub.status.idle": "2021-04-09T02:58:18.423992Z",
     "shell.execute_reply": "2021-04-09T02:58:18.421912Z",
     "shell.execute_reply.started": "2021-04-09T02:52:09.818990Z"
    }
   },
   "outputs": [],
   "source": [
    "trans = transition_mat(text_words)"
   ]
  },
  {
   "cell_type": "code",
   "execution_count": null,
   "metadata": {},
   "outputs": [],
   "source": [
    "plt.hist(\n",
    "    np.array([trans[col].unique() for col in trans.columns]).flatten())"
   ]
  },
  {
   "cell_type": "code",
   "execution_count": 9,
   "metadata": {
    "execution": {
     "iopub.execute_input": "2021-04-09T03:00:01.809885Z",
     "iopub.status.busy": "2021-04-09T03:00:01.809356Z",
     "iopub.status.idle": "2021-04-09T03:00:01.900365Z",
     "shell.execute_reply": "2021-04-09T03:00:01.897739Z",
     "shell.execute_reply.started": "2021-04-09T03:00:01.809809Z"
    }
   },
   "outputs": [],
   "source": [
    "# from https://www.analyticsvidhya.com/blog/2021/04/generating-fantasy-titles-with-a-markov-chain/\n",
    "def markov_sentence(trans, start_tokens, end_tokens,thresh=0):\n",
    "    trans = trans.copy(deep=True) #if a copy isn't made it will permanently change the df\n",
    "    trans[trans < thresh] = 0\n",
    "    start_tokens = list(start_tokens)\n",
    "    \n",
    "    sent = ''\n",
    "    word = start_tokens[np.random.randint(len(start_tokens))]\n",
    "    cols = list(trans.columns)\n",
    "    col_i = 0\n",
    "    rand = np.random.rand()\n",
    "    while word not in end_tokens:\n",
    "        if col_i >= len(cols):\n",
    "            print(col_i)\n",
    "        w2 = cols[col_i]\n",
    "        p = trans.loc[word,w2]\n",
    "        if rand <= p:\n",
    "            sent += word + ' '\n",
    "            word = w2\n",
    "            col_i = 0\n",
    "            rand = np.random.rand()\n",
    "        else:\n",
    "            rand -= p\n",
    "            col_i += 1\n",
    "    return sent"
   ]
  },
  {
   "cell_type": "code",
   "execution_count": 16,
   "metadata": {
    "execution": {
     "iopub.execute_input": "2021-04-09T03:04:09.450890Z",
     "iopub.status.busy": "2021-04-09T03:04:09.450543Z",
     "iopub.status.idle": "2021-04-09T03:04:20.146666Z",
     "shell.execute_reply": "2021-04-09T03:04:20.139981Z",
     "shell.execute_reply.started": "2021-04-09T03:04:09.450851Z"
    }
   },
   "outputs": [
    {
     "data": {
      "text/plain": [
       "'demodocus s gear tumbled right hands of a tremendous sea with which case some god '"
      ]
     },
     "execution_count": 16,
     "metadata": {},
     "output_type": "execute_result"
    }
   ],
   "source": [
    "markov_sentence(trans,start_tokens,end_tokens,thresh=0.001)"
   ]
  },
  {
   "cell_type": "code",
   "execution_count": null,
   "metadata": {},
   "outputs": [],
   "source": [
    "x = pd.DataFrame(1, columns = ['a','b','c'], index= ['e','f','g'])\n",
    "x.loc['e']['b'] =2\n",
    "x=x.div(x.sum(axis=1),axis=0)\n",
    "def do(y):\n",
    "    y[y>.25] = 3\n",
    "do(x)\n",
    "x"
   ]
  },
  {
   "cell_type": "code",
   "execution_count": null,
   "metadata": {},
   "outputs": [],
   "source": []
  }
 ],
 "metadata": {
  "kernelspec": {
   "display_name": "Python 3",
   "language": "python",
   "name": "python3"
  },
  "language_info": {
   "codemirror_mode": {
    "name": "ipython",
    "version": 3
   },
   "file_extension": ".py",
   "mimetype": "text/x-python",
   "name": "python",
   "nbconvert_exporter": "python",
   "pygments_lexer": "ipython3",
   "version": "3.7.4"
  }
 },
 "nbformat": 4,
 "nbformat_minor": 4
}
