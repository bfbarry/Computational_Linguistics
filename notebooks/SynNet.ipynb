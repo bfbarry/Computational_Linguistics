{
 "cells": [
  {
   "cell_type": "code",
   "execution_count": 35,
   "metadata": {
    "execution": {
     "iopub.execute_input": "2021-03-21T04:20:21.560069Z",
     "iopub.status.busy": "2021-03-21T04:20:21.559469Z",
     "iopub.status.idle": "2021-03-21T04:20:25.764819Z",
     "shell.execute_reply": "2021-03-21T04:20:25.763360Z",
     "shell.execute_reply.started": "2021-03-21T04:20:21.559985Z"
    }
   },
   "outputs": [],
   "source": [
    "from nltk.corpus import wordnet, words\n",
    "import nltk\n",
    "import re\n",
    "import json\n",
    "from nltk.sentiment import SentimentIntensityAnalyzer\n",
    "import networkx as nx\n",
    "import numpy as np\n",
    "import matplotlib.pyplot as plt\n",
    "\n",
    "#loading data \n",
    "with open('./data/manywords_pos.txt') as f:\n",
    "    manywords_pos = f.read()\n",
    "    exec(f'manywords_pos = {manywords_pos}') #convert the string to original list\n",
    "\n",
    "graphs = dict.fromkeys(('n','v','a','s','r'))\n",
    "eigs = dict.fromkeys(('n','v','a','s','r'))\n",
    "for g in graphs.keys():\n",
    "    with open(f'./data/syn_graph/syn_graph_{g}.json','r') as f:\n",
    "        graphs[g] = json.load(f)\n",
    "    \n",
    "    with np.load(f'data/syn_graph/eigs_{g}.npz') as data:\n",
    "        eigs[g] = data['eigs']"
   ]
  },
  {
   "cell_type": "markdown",
   "metadata": {},
   "source": [
    "## Synonym Net\n",
    "\n",
    "- find networks for each part of speech, see if they are organized in dense node clusters\n",
    "- color nodes by sentiment (make it just binary good/bad for now), and observe any \"gradients\"\n",
    "    - how easy is it (or \"how short of a walk is it\") to go from one polar sentiment to the next?\n",
    "- degree distr\n",
    "\n",
    "Networks visualized in HTML files\n",
    "\n",
    "Synset methods: .name, .pos\n",
    "\n",
    "Preprocessing:\n",
    "- don't want VBD (past tense) or VBG (gerund or past particple) as this is redundant\n",
    "- This is removing some wrong things e.g barefooted (\"I barefooted\" makes it VBD) when it's an adj\n",
    "\n",
    "Quick guides:\n",
    "    \n",
    "    n NOUN\n",
    "\n",
    "    v VERB\n",
    "\n",
    "    a ADJECTIVE\n",
    "\n",
    "    s ADJECTIVE SATELLITE\n",
    "\n",
    "    r ADVERB"
   ]
  },
  {
   "cell_type": "code",
   "execution_count": 234,
   "metadata": {
    "execution": {
     "iopub.execute_input": "2021-03-20T05:00:58.055686Z",
     "iopub.status.busy": "2021-03-20T05:00:58.054763Z",
     "iopub.status.idle": "2021-03-20T05:01:00.443689Z",
     "shell.execute_reply": "2021-03-20T05:01:00.440046Z",
     "shell.execute_reply.started": "2021-03-20T05:00:58.055542Z"
    }
   },
   "outputs": [],
   "source": [
    "# Collecting all words\n",
    "# some functions to search words for undesirable properties\n",
    "def has_undesirable(inputStr):\n",
    "    total_bool = bool(re.search(r'\\d', inputStr)) or any(not c.isalnum() for c in inputStr) or any(c.isupper() for c in inputStr) or len(inputStr) ==1\n",
    "    return total_bool\n",
    "\n",
    "manywords = words.words() + list(wordnet.words())\n",
    "manywords = list(dict.fromkeys(manywords)) #remove duplicates\n",
    "#df = pd.read_csv('./data/all_words.txt', sep=' ', header=None) #just words\n",
    "manywords = [i for i in manywords if has_undesirable(i) == False]"
   ]
  },
  {
   "cell_type": "code",
   "execution_count": 235,
   "metadata": {
    "execution": {
     "iopub.execute_input": "2021-03-20T05:01:08.903405Z",
     "iopub.status.busy": "2021-03-20T05:01:08.902887Z",
     "iopub.status.idle": "2021-03-20T05:04:31.146366Z",
     "shell.execute_reply": "2021-03-20T05:04:31.142929Z",
     "shell.execute_reply.started": "2021-03-20T05:01:08.903310Z"
    }
   },
   "outputs": [],
   "source": [
    "# assigning words their (potentially) multiple parts of speech\n",
    "pos_map = {'NN':'n', 'VB':'v', 'JJ':'a'} #for mapping words w/o syns\n",
    "manywords_pos = [] #[(word1, pos), ...]\n",
    "for w in manywords:\n",
    "    if nltk.pos_tag(['I',w])[1][1] == 'VBD' or nltk.pos_tag([w])[0][1] == 'VBG': # hack to tell if this is a redundant word. First case guarantees it is in fact a VBD, \n",
    "        continue                                                                 # second case uses only the word for cases like 'passing' (which can be NN)\n",
    "        \n",
    "    syns = wordnet.synsets(w)\n",
    "    if len(syns) > 0:\n",
    "        word_pos = [] # [(word,pos1),...,(word,posN)]\n",
    "        psos = list(dict.fromkeys([s.pos() for s in syns])) # duplicates removed parts of speech\n",
    "        for pos in psos:\n",
    "            word_pos.append((w,pos))\n",
    "        for wp in word_pos:\n",
    "            manywords_pos.append(wp)\n",
    "    else:\n",
    "        pos = nltk.pos_tag([w])[0][1]\n",
    "        try:\n",
    "            pos = pos_map[pos]\n",
    "            manywords_pos.append((w,pos))\n",
    "        except:\n",
    "            continue\n",
    "            \n",
    "with open('./data/manywords_pos.txt', 'w') as f:\n",
    "    f.write(str(manywords_pos))"
   ]
  },
  {
   "cell_type": "code",
   "execution_count": 236,
   "metadata": {
    "execution": {
     "iopub.execute_input": "2021-03-20T05:13:54.380062Z",
     "iopub.status.busy": "2021-03-20T05:13:54.379188Z",
     "iopub.status.idle": "2021-03-20T05:16:35.330398Z",
     "shell.execute_reply": "2021-03-20T05:16:35.327204Z",
     "shell.execute_reply.started": "2021-03-20T05:13:54.379723Z"
    }
   },
   "outputs": [],
   "source": [
    "pos_subsets = dict.fromkeys(('n','v','a','s','r'))\n",
    "for pos in pos_subsets.keys():\n",
    "    pos_subset = [(w,p) for (w,p) in manywords_pos if p == pos]\n",
    "    pos_subsets[pos] = pos_subset\n",
    "    \n",
    "polarity_done = False #if it was done previously\n",
    "SIA = SentimentIntensityAnalyzer()\n",
    "graphs = dict.fromkeys(pos_subsets.keys())\n",
    "non_sentim = []\n",
    "for g in graphs.keys():\n",
    "    graphs[g] = {'nodes' : [],'edges' : []}\n",
    "\n",
    "for pos in graphs.keys():\n",
    "    edges_cache = []\n",
    "    for (w,p) in pos_subsets[pos]:\n",
    "        wp = f'{w}.{p}' \n",
    "        syns = [syn for syn in wordnet.synsets(w) \n",
    "                        if syn.pos() == p #right POS\n",
    "                        and syn.name()[:syn.name().index('.')] != wp[:-2] #is not the same word\n",
    "                        and '_' not in syn.name()] #no non-single words\n",
    "        #nodes\n",
    "        if not polarity_done:\n",
    "            scores = SIA.polarity_scores(w); del scores['compound']\n",
    "            try:\n",
    "                sentm = [key for key in scores.keys() if scores[key] == 1.0][0]\n",
    "                graphs[pos]['nodes'].append({**{\"word\":wp}, **{'sentm':sentm}})\n",
    "                #edges\n",
    "                for syn in syns:\n",
    "                    syn = syn.name()[:-3] #removing number at end; maybe revise later to ensure no significant loss\n",
    "                    if {wp,syn} not in edges_cache and tuple(syn.split('.')) in pos_subsets[pos]: # since underiected graph\n",
    "                        edges_cache.append({wp,syn})\n",
    "                        graphs[pos]['edges'].append({\"source\":wp,\"target\":syn})\n",
    "            except:\n",
    "                non_sentim.append(wp)\n",
    "                continue\n",
    "            \n",
    "        else:\n",
    "            pass #todo\n",
    "    with open(f'./data/syn_graph/syn_graph_{pos}.json','w') as f:\n",
    "        json.dump(graphs[pos],f,indent=4)"
   ]
  },
  {
   "cell_type": "markdown",
   "metadata": {},
   "source": [
    "# Degree distributions and spectra\n",
    "- This kind of thing https://www.wikiwand.com/en/Algebraic_connectivity<br>\n",
    "Adjective rankings are really weird; NLTK synsets are maybe a weak API for synonyms. Is this due to lazy manual labeling (see example in misc?"
   ]
  },
  {
   "cell_type": "code",
   "execution_count": 328,
   "metadata": {
    "execution": {
     "iopub.execute_input": "2021-03-21T02:00:39.954142Z",
     "iopub.status.busy": "2021-03-21T02:00:39.953486Z",
     "iopub.status.idle": "2021-03-21T02:00:44.991155Z",
     "shell.execute_reply": "2021-03-21T02:00:44.979470Z",
     "shell.execute_reply.started": "2021-03-21T02:00:39.954019Z"
    }
   },
   "outputs": [
    {
     "name": "stderr",
     "output_type": "stream",
     "text": [
      "/Users/brianbarry/opt/anaconda3/lib/python3.7/site-packages/ipykernel_launcher.py:9: MatplotlibDeprecationWarning: Adding an axes using the same arguments as a previous axes currently reuses the earlier instance.  In a future version, a new instance will always be created and returned.  Meanwhile, this warning can be suppressed, and the future behavior ensured, by passing a unique label to each axes instance.\n",
      "  if __name__ == '__main__':\n",
      "/Users/brianbarry/opt/anaconda3/lib/python3.7/site-packages/ipykernel_launcher.py:12: MatplotlibDeprecationWarning: Adding an axes using the same arguments as a previous axes currently reuses the earlier instance.  In a future version, a new instance will always be created and returned.  Meanwhile, this warning can be suppressed, and the future behavior ensured, by passing a unique label to each axes instance.\n",
      "  if sys.path[0] == '':\n"
     ]
    },
    {
     "data": {
      "image/png": "[encoded data removed]",
      "text/plain": [
       "<Figure size 1152x432 with 2 Axes>"
      ]
     },
     "metadata": {
      "needs_background": "light"
     },
     "output_type": "display_data"
    },
    {
     "data": {
      "image/png": "[encoded data removed]",
      "text/plain": [
       "<Figure size 1080x360 with 5 Axes>"
      ]
     },
     "metadata": {
      "needs_background": "light"
     },
     "output_type": "display_data"
    }
   ],
   "source": [
    "plt.figure(figsize=(16,6))\n",
    "colors = list(iter(plt.cm.Set3(np.linspace(0, 1, 5))))\n",
    "topwords = dict.fromkeys(graphs.keys())\n",
    "adj_mats = dict.fromkeys(graphs.keys())\n",
    "for i, g in enumerate(graphs.keys()):\n",
    "    nx_format = [tuple(edge.values()) for edge in graphs[g]['edges']]\n",
    "    nx_graph = nx.Graph(nx_format)\n",
    "    degrees = dict(nx_graph.degree)\n",
    "    deg_rev_sort = sorted(list(degrees.values()), reverse = 1)\n",
    "    plt.subplot(1,2,1)\n",
    "    #norm hist by max degree\n",
    "    y, x, _ = plt.hist(np.array(list(degrees.values())),bins=20,label=g,alpha=0.4,density=True,stacked=True, color = colors[i]); plt.legend()\n",
    "    plt.subplot(1,2,2)\n",
    "    plt.loglog(list(range(len(nx_graph))), deg_rev_sort, '.-',label = g, color = colors[i]); plt.legend()\n",
    "    \n",
    "    #degree ranking chart\n",
    "    invmap = {v: k for k, v in degrees.items()}\n",
    "    maxwrds = []\n",
    "    for d in deg_rev_sort[:10]:\n",
    "        maxwrds.append(invmap[d])\n",
    "    maxwrds = [i.split('.')[0] for i in maxwrds]\n",
    "    topwords[g] = ( maxwrds, deg_rev_sort[:10],)  \n",
    "    \n",
    "plt.figure(figsize=(15,5))\n",
    "for i,g in enumerate(topwords.keys()):\n",
    "    plt.subplot(1,5,i+1)\n",
    "    plt.title(g)\n",
    "    plt.bar(topwords[g][0],topwords[g][1],color=colors[i])\n",
    "    plt.xticks(rotation=45)"
   ]
  },
  {
   "cell_type": "code",
   "execution_count": null,
   "metadata": {
    "execution": {
     "iopub.execute_input": "2021-03-21T04:20:34.802737Z",
     "iopub.status.busy": "2021-03-21T04:20:34.801887Z"
    }
   },
   "outputs": [],
   "source": [
    "for g in graphs.keys():\n",
    "    nx_format = [tuple(edge.values()) for edge in graphs[g]['edges']]\n",
    "    nx_graph = nx.Graph(nx_format)\n",
    "    laplacian = nx.linalg.laplacianmatrix.laplacian_matrix(nx_graph).todense()\n",
    "    eigs, _ = np.linalg.eig(laplacian)\n",
    "    np.savez(f'data/syn_graph/eigs_{g}.npz',eigs=eigs)"
   ]
  },
  {
   "cell_type": "code",
   "execution_count": 14,
   "metadata": {
    "execution": {
     "iopub.execute_input": "2021-03-21T04:01:43.492703Z",
     "iopub.status.busy": "2021-03-21T04:01:43.491942Z",
     "iopub.status.idle": "2021-03-21T04:01:44.569072Z",
     "shell.execute_reply": "2021-03-21T04:01:44.567613Z",
     "shell.execute_reply.started": "2021-03-21T04:01:43.492393Z"
    }
   },
   "outputs": [
    {
     "data": {
      "text/plain": [
       "[<matplotlib.lines.Line2D at 0x7fab6107c0d0>]"
      ]
     },
     "execution_count": 14,
     "metadata": {},
     "output_type": "execute_result"
    },
    {
     "data": {
      "image/png": "[encoded data removed]",
      "text/plain": [
       "<Figure size 432x288 with 1 Axes>"
      ]
     },
     "metadata": {
      "needs_background": "light"
     },
     "output_type": "display_data"
    }
   ],
   "source": [
    "plt.loglog(range(len(eigs[:100])),eigs[:100])"
   ]
  },
  {
   "cell_type": "markdown",
   "metadata": {},
   "source": [
    "# Misc, data cleaning\n",
    "- Some example of perplexing noise in synsets:<br>\n",
    "`>>> wordnet.synsets('assess')`\n",
    "```\n",
    "[Synset('buttocks.n.01'),\n",
    " Synset('ass.n.02'),\n",
    " Synset('ass.n.03'),\n",
    " Synset('fuck.n.01'),\n",
    " Synset('measure.v.04'),\n",
    " Synset('assess.v.02'),\n",
    " Synset('tax.v.02'),\n",
    " Synset('assess.v.04')]\n",
    "```\n",
    "\n",
    "Also, some synonyms appear in synsets but not the other way around, though this should not affect the fact that this is an undirected graph too much"
   ]
  },
  {
   "cell_type": "code",
   "execution_count": 6,
   "metadata": {
    "execution": {
     "iopub.execute_input": "2021-03-21T03:41:03.123104Z",
     "iopub.status.busy": "2021-03-21T03:41:03.122239Z",
     "iopub.status.idle": "2021-03-21T03:41:03.247649Z",
     "shell.execute_reply": "2021-03-21T03:41:03.219193Z",
     "shell.execute_reply.started": "2021-03-21T03:41:03.122742Z"
    }
   },
   "outputs": [],
   "source": [
    "nx_format = [tuple(edge.values()) for edge in graphs['v']['edges']]\n",
    "nx_graph = nx.Graph(nx_format)\n",
    "degrees = dict(nx_graph.degree)\n",
    "deg_rev_sort = sorted(list(degrees.values()), reverse = 1)"
   ]
  },
  {
   "cell_type": "code",
   "execution_count": 346,
   "metadata": {
    "execution": {
     "iopub.execute_input": "2021-03-21T02:09:18.148693Z",
     "iopub.status.busy": "2021-03-21T02:09:18.148300Z",
     "iopub.status.idle": "2021-03-21T02:09:18.162814Z",
     "shell.execute_reply": "2021-03-21T02:09:18.159791Z",
     "shell.execute_reply.started": "2021-03-21T02:09:18.148606Z"
    }
   },
   "outputs": [
    {
     "data": {
      "text/plain": [
       "[Synset('buttocks.n.01'),\n",
       " Synset('ass.n.02'),\n",
       " Synset('ass.n.03'),\n",
       " Synset('fuck.n.01'),\n",
       " Synset('measure.v.04'),\n",
       " Synset('assess.v.02'),\n",
       " Synset('tax.v.02'),\n",
       " Synset('assess.v.04')]"
      ]
     },
     "execution_count": 346,
     "metadata": {},
     "output_type": "execute_result"
    }
   ],
   "source": [
    "wordnet.synsets('assess')"
   ]
  },
  {
   "cell_type": "code",
   "execution_count": 344,
   "metadata": {
    "execution": {
     "iopub.execute_input": "2021-03-21T02:08:38.603378Z",
     "iopub.status.busy": "2021-03-21T02:08:38.602519Z",
     "iopub.status.idle": "2021-03-21T02:08:38.630702Z",
     "shell.execute_reply": "2021-03-21T02:08:38.623461Z",
     "shell.execute_reply.started": "2021-03-21T02:08:38.603027Z"
    }
   },
   "outputs": [
    {
     "data": {
      "text/plain": [
       "[('arse.n', 'buttocks.n'),\n",
       " ('ass.n', 'buttocks.n'),\n",
       " ('assess.n', 'buttocks.n'),\n",
       " ('backside.n', 'buttocks.n'),\n",
       " ('behind.n', 'buttocks.n'),\n",
       " ('bottom.n', 'buttocks.n'),\n",
       " ('bum.n', 'buttocks.n'),\n",
       " ('butt.n', 'buttocks.n'),\n",
       " ('can.n', 'buttocks.n'),\n",
       " ('fundament.n', 'buttocks.n'),\n",
       " ('nates.n', 'buttocks.n'),\n",
       " ('posterior.n', 'buttocks.n'),\n",
       " ('posteriors.n', 'buttocks.n'),\n",
       " ('prat.n', 'buttocks.n'),\n",
       " ('rear.n', 'buttocks.n'),\n",
       " ('rump.n', 'buttocks.n'),\n",
       " ('seat.n', 'buttocks.n'),\n",
       " ('stern.n', 'buttocks.n'),\n",
       " ('tail.n', 'buttocks.n'),\n",
       " ('tush.n', 'buttocks.n'),\n",
       " ('buns.n', 'buttocks.n'),\n",
       " ('buttocks.n', 'buttock.n'),\n",
       " ('derriere.n', 'buttocks.n'),\n",
       " ('fanny.n', 'buttocks.n'),\n",
       " ('hindquarters.n', 'buttocks.n'),\n",
       " ('keister.n', 'buttocks.n'),\n",
       " ('seats.n', 'buttocks.n'),\n",
       " ('tails.n', 'buttocks.n'),\n",
       " ('tooshie.n', 'buttocks.n')]"
      ]
     },
     "execution_count": 344,
     "metadata": {},
     "output_type": "execute_result"
    }
   ],
   "source": [
    "[(w1,w2) for (w1,w2) in nx_format if 'buttocks.n' in (w1,w2)]"
   ]
  },
  {
   "cell_type": "code",
   "execution_count": null,
   "metadata": {
    "execution": {
     "iopub.execute_input": "2021-03-20T01:40:57.899783Z",
     "iopub.status.busy": "2021-03-20T01:40:57.898883Z",
     "iopub.status.idle": "2021-03-20T01:41:14.992640Z",
     "shell.execute_reply": "2021-03-20T01:41:14.990590Z",
     "shell.execute_reply.started": "2021-03-20T01:40:57.899402Z"
    }
   },
   "outputs": [],
   "source": [
    "sia = SentimentIntensityAnalyzer()\n",
    "from mpl_toolkits.mplot3d import Axes3D\n",
    "sent_xyz = [[],[],[],[]] #x,y,z,4th dim\n",
    "for w in manywords:\n",
    "    score = sia.polarity_scores(w)\n",
    "    sent_xyz[0].append(score['neg'])\n",
    "    sent_xyz[1].append(score['neu'])\n",
    "    sent_xyz[2].append(score['pos'])\n",
    "    sent_xyz[3].append(score['compound'])\n",
    "    \n",
    "# fig = plt.figure()\n",
    "# ax = fig.add_subplot(111, projection='3d')\n",
    "# #colors = list(iter(plt.cm.Set1(np.linspace(0, 1, 9))))\n",
    "# ax.scatter(sent_xyz[0],sent_xyz[1],sent_xyz[2])\n",
    "\n",
    "# plt.show()\n"
   ]
  },
  {
   "cell_type": "code",
   "execution_count": 151,
   "metadata": {
    "execution": {
     "iopub.execute_input": "2021-03-20T01:39:50.967819Z",
     "iopub.status.busy": "2021-03-20T01:39:50.967054Z",
     "iopub.status.idle": "2021-03-20T01:39:51.763750Z",
     "shell.execute_reply": "2021-03-20T01:39:51.761932Z",
     "shell.execute_reply.started": "2021-03-20T01:39:50.967513Z"
    }
   },
   "outputs": [
    {
     "data": {
      "text/plain": [
       "(array([1.46000e+02, 7.67000e+02, 8.03000e+02, 5.34000e+02, 2.53000e+02,\n",
       "        2.32036e+05, 2.22000e+02, 5.91000e+02, 7.11000e+02, 2.62000e+02]),\n",
       " array([-0.7096 , -0.57267, -0.43574, -0.29881, -0.16188, -0.02495,\n",
       "         0.11198,  0.24891,  0.38584,  0.52277,  0.6597 ]),\n",
       " <a list of 10 Patch objects>)"
      ]
     },
     "execution_count": 151,
     "metadata": {},
     "output_type": "execute_result"
    },
    {
     "data": {
      "image/png": "[encoded data removed]",
      "text/plain": [
       "<Figure size 432x288 with 1 Axes>"
      ]
     },
     "metadata": {
      "needs_background": "light"
     },
     "output_type": "display_data"
    }
   ],
   "source": [
    "plt.hist(sent_xyz[3],bins=10)"
   ]
  }
 ],
 "metadata": {
  "kernelspec": {
   "display_name": "Python 3",
   "language": "python",
   "name": "python3"
  },
  "language_info": {
   "codemirror_mode": {
    "name": "ipython",
    "version": 3
   },
   "file_extension": ".py",
   "mimetype": "text/x-python",
   "name": "python",
   "nbconvert_exporter": "python",
   "pygments_lexer": "ipython3",
   "version": "3.7.4"
  }
 },
 "nbformat": 4,
 "nbformat_minor": 4
}
